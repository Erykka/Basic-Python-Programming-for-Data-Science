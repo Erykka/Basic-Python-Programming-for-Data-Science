{
  "nbformat": 4,
  "nbformat_minor": 0,
  "metadata": {
    "colab": {
      "name": "DataFrame.ipynb",
      "provenance": [],
      "collapsed_sections": []
    },
    "kernelspec": {
      "name": "python3",
      "display_name": "Python 3"
    },
    "language_info": {
      "name": "python"
    }
  },
  "cells": [
    {
      "cell_type": "markdown",
      "metadata": {
        "id": "FQZy3B_6ritM"
      },
      "source": [
        "## Data Frame Pada Python"
      ]
    },
    {
      "cell_type": "markdown",
      "metadata": {
        "id": "Rka9llpxrgIc"
      },
      "source": [
        "DataFrame berbentuk dua dimensi sebagaimana matriks. DataFrame adalah struktur data yang memungkinkan untuk menyimpan beberapa variabel dengan lebih dari satu tipe data. Data dalam satu variabel yang sama disimpan dalam satu kolom yang dapat diberi nama. DataFrame adalah representasi khusus untuk mengolah data dalam bentuk spreadsheet. Hal ini memungkinkan kita untuk mengimpor file dari ekstensi CSV, XLS, atau lainnya ke dalam Python."
      ]
    },
    {
      "cell_type": "markdown",
      "metadata": {
        "id": "WIx43T6lsjKA"
      },
      "source": [
        "### Mengimpor Library"
      ]
    },
    {
      "cell_type": "code",
      "metadata": {
        "id": "rsfkHrS9sqTl"
      },
      "source": [
        "import pandas as pd\n",
        "import numpy as np"
      ],
      "execution_count": null,
      "outputs": []
    },
    {
      "cell_type": "markdown",
      "metadata": {
        "id": "b_ydxNC2sVU6"
      },
      "source": [
        "### Membuat Data Frame Pada Python"
      ]
    },
    {
      "cell_type": "markdown",
      "metadata": {
        "id": "frRDEIDlsZSG"
      },
      "source": [
        "**Membuat Data Frame dari List**"
      ]
    },
    {
      "cell_type": "code",
      "metadata": {
        "colab": {
          "base_uri": "https://localhost:8080/",
          "height": 266
        },
        "id": "9qG2HuPdq1bV",
        "outputId": "564f8910-8591-4f43-e835-bd1e6a0e3eae"
      },
      "source": [
        "# Membuat List isian dataframe\n",
        "List1 =  ['Senin', 'Selasa', 'Rabu', 'Kamis', 'Jumat', 'Sabtu', 'Minggu']\n",
        "  \n",
        "# Membuat DataFrame\n",
        "df = pd.DataFrame(List1)\n",
        "\n",
        "# Memanggil DataFrame\n",
        "df"
      ],
      "execution_count": null,
      "outputs": [
        {
          "output_type": "execute_result",
          "data": {
            "text/html": [
              "<div>\n",
              "<style scoped>\n",
              "    .dataframe tbody tr th:only-of-type {\n",
              "        vertical-align: middle;\n",
              "    }\n",
              "\n",
              "    .dataframe tbody tr th {\n",
              "        vertical-align: top;\n",
              "    }\n",
              "\n",
              "    .dataframe thead th {\n",
              "        text-align: right;\n",
              "    }\n",
              "</style>\n",
              "<table border=\"1\" class=\"dataframe\">\n",
              "  <thead>\n",
              "    <tr style=\"text-align: right;\">\n",
              "      <th></th>\n",
              "      <th>0</th>\n",
              "    </tr>\n",
              "  </thead>\n",
              "  <tbody>\n",
              "    <tr>\n",
              "      <th>0</th>\n",
              "      <td>Senin</td>\n",
              "    </tr>\n",
              "    <tr>\n",
              "      <th>1</th>\n",
              "      <td>Selasa</td>\n",
              "    </tr>\n",
              "    <tr>\n",
              "      <th>2</th>\n",
              "      <td>Rabu</td>\n",
              "    </tr>\n",
              "    <tr>\n",
              "      <th>3</th>\n",
              "      <td>Kamis</td>\n",
              "    </tr>\n",
              "    <tr>\n",
              "      <th>4</th>\n",
              "      <td>Jumat</td>\n",
              "    </tr>\n",
              "    <tr>\n",
              "      <th>5</th>\n",
              "      <td>Sabtu</td>\n",
              "    </tr>\n",
              "    <tr>\n",
              "      <th>6</th>\n",
              "      <td>Minggu</td>\n",
              "    </tr>\n",
              "  </tbody>\n",
              "</table>\n",
              "</div>"
            ],
            "text/plain": [
              "        0\n",
              "0   Senin\n",
              "1  Selasa\n",
              "2    Rabu\n",
              "3   Kamis\n",
              "4   Jumat\n",
              "5   Sabtu\n",
              "6  Minggu"
            ]
          },
          "metadata": {
            "tags": []
          },
          "execution_count": 10
        }
      ]
    },
    {
      "cell_type": "code",
      "metadata": {
        "colab": {
          "base_uri": "https://localhost:8080/",
          "height": 266
        },
        "id": "ep4glDG8tjET",
        "outputId": "50600047-98e2-4c7f-d6d6-b84c3539bedd"
      },
      "source": [
        "# Membuat List isian DataFrame\n",
        "List1 =  ['Senin', 'Selasa', 'Rabu', 'Kamis', 'Jumat', 'Sabtu', 'Minggu']\n",
        "\n",
        "# Membuat DataFrame dengan Indeks dan Nama Kolom Tertentu\n",
        "df = pd.DataFrame(List1,\n",
        "                  index=[\"Satu\", \"Dua\", \"Tiga\", \"Empat\", \"Lima\", \"Enam\", \"Tujuh\"], # Menamai baris\n",
        "                  columns=[\"Nama Hari\"])                                         # Menamai kolom\n",
        "\n",
        "# Memanggil DataFrame\n",
        "df"
      ],
      "execution_count": null,
      "outputs": [
        {
          "output_type": "execute_result",
          "data": {
            "text/html": [
              "<div>\n",
              "<style scoped>\n",
              "    .dataframe tbody tr th:only-of-type {\n",
              "        vertical-align: middle;\n",
              "    }\n",
              "\n",
              "    .dataframe tbody tr th {\n",
              "        vertical-align: top;\n",
              "    }\n",
              "\n",
              "    .dataframe thead th {\n",
              "        text-align: right;\n",
              "    }\n",
              "</style>\n",
              "<table border=\"1\" class=\"dataframe\">\n",
              "  <thead>\n",
              "    <tr style=\"text-align: right;\">\n",
              "      <th></th>\n",
              "      <th>Nama Hari</th>\n",
              "    </tr>\n",
              "  </thead>\n",
              "  <tbody>\n",
              "    <tr>\n",
              "      <th>Satu</th>\n",
              "      <td>Senin</td>\n",
              "    </tr>\n",
              "    <tr>\n",
              "      <th>Dua</th>\n",
              "      <td>Selasa</td>\n",
              "    </tr>\n",
              "    <tr>\n",
              "      <th>Tiga</th>\n",
              "      <td>Rabu</td>\n",
              "    </tr>\n",
              "    <tr>\n",
              "      <th>Empat</th>\n",
              "      <td>Kamis</td>\n",
              "    </tr>\n",
              "    <tr>\n",
              "      <th>Lima</th>\n",
              "      <td>Jumat</td>\n",
              "    </tr>\n",
              "    <tr>\n",
              "      <th>Enam</th>\n",
              "      <td>Sabtu</td>\n",
              "    </tr>\n",
              "    <tr>\n",
              "      <th>Tujuh</th>\n",
              "      <td>Minggu</td>\n",
              "    </tr>\n",
              "  </tbody>\n",
              "</table>\n",
              "</div>"
            ],
            "text/plain": [
              "      Nama Hari\n",
              "Satu      Senin\n",
              "Dua      Selasa\n",
              "Tiga       Rabu\n",
              "Empat     Kamis\n",
              "Lima      Jumat\n",
              "Enam      Sabtu\n",
              "Tujuh    Minggu"
            ]
          },
          "metadata": {
            "tags": []
          },
          "execution_count": 4
        }
      ]
    },
    {
      "cell_type": "code",
      "metadata": {
        "colab": {
          "base_uri": "https://localhost:8080/",
          "height": 266
        },
        "id": "wd7dvzxjuc_h",
        "outputId": "f906c7fc-c16c-4c9a-9a71-f30ec7dab9a4"
      },
      "source": [
        "# Membuat List isian DataFrame\n",
        "List1 = ['Senin', 'Selasa', 'Rabu', 'Kamis', 'Jumat', 'Sabtu', 'Minggu']\n",
        "List2 = [10000,10000,10000,10000,10000,25000,25000]\n",
        "\n",
        "# Membuat DataFrame dengan Indeks dan Nama Kolom Tertentu\n",
        "df = pd.DataFrame(list(zip(List1, List2)),\n",
        "                  columns=[\"Nama Hari\", \"Harga Tiket Zoo\"])  # Menamai Kolom\n",
        "                  \n",
        "#Memanggil DataFrame\n",
        "df"
      ],
      "execution_count": null,
      "outputs": [
        {
          "output_type": "execute_result",
          "data": {
            "text/html": [
              "<div>\n",
              "<style scoped>\n",
              "    .dataframe tbody tr th:only-of-type {\n",
              "        vertical-align: middle;\n",
              "    }\n",
              "\n",
              "    .dataframe tbody tr th {\n",
              "        vertical-align: top;\n",
              "    }\n",
              "\n",
              "    .dataframe thead th {\n",
              "        text-align: right;\n",
              "    }\n",
              "</style>\n",
              "<table border=\"1\" class=\"dataframe\">\n",
              "  <thead>\n",
              "    <tr style=\"text-align: right;\">\n",
              "      <th></th>\n",
              "      <th>Nama Hari</th>\n",
              "      <th>Harga Tiket Zoo</th>\n",
              "    </tr>\n",
              "  </thead>\n",
              "  <tbody>\n",
              "    <tr>\n",
              "      <th>0</th>\n",
              "      <td>Senin</td>\n",
              "      <td>10000</td>\n",
              "    </tr>\n",
              "    <tr>\n",
              "      <th>1</th>\n",
              "      <td>Selasa</td>\n",
              "      <td>10000</td>\n",
              "    </tr>\n",
              "    <tr>\n",
              "      <th>2</th>\n",
              "      <td>Rabu</td>\n",
              "      <td>10000</td>\n",
              "    </tr>\n",
              "    <tr>\n",
              "      <th>3</th>\n",
              "      <td>Kamis</td>\n",
              "      <td>10000</td>\n",
              "    </tr>\n",
              "    <tr>\n",
              "      <th>4</th>\n",
              "      <td>Jumat</td>\n",
              "      <td>10000</td>\n",
              "    </tr>\n",
              "    <tr>\n",
              "      <th>5</th>\n",
              "      <td>Sabtu</td>\n",
              "      <td>25000</td>\n",
              "    </tr>\n",
              "    <tr>\n",
              "      <th>6</th>\n",
              "      <td>Minggu</td>\n",
              "      <td>25000</td>\n",
              "    </tr>\n",
              "  </tbody>\n",
              "</table>\n",
              "</div>"
            ],
            "text/plain": [
              "  Nama Hari  Harga Tiket Zoo\n",
              "0     Senin            10000\n",
              "1    Selasa            10000\n",
              "2      Rabu            10000\n",
              "3     Kamis            10000\n",
              "4     Jumat            10000\n",
              "5     Sabtu            25000\n",
              "6    Minggu            25000"
            ]
          },
          "metadata": {
            "tags": []
          },
          "execution_count": 12
        }
      ]
    },
    {
      "cell_type": "code",
      "metadata": {
        "colab": {
          "base_uri": "https://localhost:8080/",
          "height": 173
        },
        "id": "yNI-E1dmv33D",
        "outputId": "b2d4e0f5-2071-4888-c9f8-290bf185941c"
      },
      "source": [
        "# Membuat List MultiDimensi     \n",
        "List1 = [['Kia', 21], ['Nuri', 20],\n",
        "       ['Iza', 22], ['Nada', 21]]\n",
        "\n",
        "# Membuat Data Frame\n",
        "df = pd.DataFrame(List1, columns =['Nama', 'Umur'])\n",
        "\n",
        "#Memanggil Data Frame\n",
        "df"
      ],
      "execution_count": null,
      "outputs": [
        {
          "output_type": "execute_result",
          "data": {
            "text/html": [
              "<div>\n",
              "<style scoped>\n",
              "    .dataframe tbody tr th:only-of-type {\n",
              "        vertical-align: middle;\n",
              "    }\n",
              "\n",
              "    .dataframe tbody tr th {\n",
              "        vertical-align: top;\n",
              "    }\n",
              "\n",
              "    .dataframe thead th {\n",
              "        text-align: right;\n",
              "    }\n",
              "</style>\n",
              "<table border=\"1\" class=\"dataframe\">\n",
              "  <thead>\n",
              "    <tr style=\"text-align: right;\">\n",
              "      <th></th>\n",
              "      <th>Nama</th>\n",
              "      <th>Umur</th>\n",
              "    </tr>\n",
              "  </thead>\n",
              "  <tbody>\n",
              "    <tr>\n",
              "      <th>0</th>\n",
              "      <td>Kia</td>\n",
              "      <td>21</td>\n",
              "    </tr>\n",
              "    <tr>\n",
              "      <th>1</th>\n",
              "      <td>Nuri</td>\n",
              "      <td>20</td>\n",
              "    </tr>\n",
              "    <tr>\n",
              "      <th>2</th>\n",
              "      <td>Iza</td>\n",
              "      <td>22</td>\n",
              "    </tr>\n",
              "    <tr>\n",
              "      <th>3</th>\n",
              "      <td>Nada</td>\n",
              "      <td>21</td>\n",
              "    </tr>\n",
              "  </tbody>\n",
              "</table>\n",
              "</div>"
            ],
            "text/plain": [
              "   Nama  Umur\n",
              "0   Kia    21\n",
              "1  Nuri    20\n",
              "2   Iza    22\n",
              "3  Nada    21"
            ]
          },
          "metadata": {
            "tags": []
          },
          "execution_count": 13
        }
      ]
    },
    {
      "cell_type": "markdown",
      "metadata": {
        "id": "uTumZrDpxPKt"
      },
      "source": [
        "**Membuat Data Frame dari Dictionary**\n"
      ]
    },
    {
      "cell_type": "code",
      "metadata": {
        "colab": {
          "base_uri": "https://localhost:8080/",
          "height": 173
        },
        "id": "Q5dn7N2BxR0d",
        "outputId": "efc4ef90-fd8d-480a-9b7c-f89d1ece6a7c"
      },
      "source": [
        "# Membuat List untuk Dictionary\n",
        "List_Nama    = [\"Iyem\", \"Indah\", \"Ira\", \"Inem\"]\n",
        "List_Jurusan = [\"Hukum\", \"Biologi\", \"Kimia\", \"Aktuaria\"]\n",
        "List_Nilai   = [90, 40, 80, 98]\n",
        "  \n",
        "# Membuat Dictionary\n",
        "dict1 = {'Nama': List_Nama, 'Juruan': List_Jurusan, 'Nilai': List_Nilai} \n",
        "\n",
        "# Membuat Data Frame\n",
        "df = pd.DataFrame(dict1)\n",
        "\n",
        "# Memanggil Data Frame\n",
        "df"
      ],
      "execution_count": null,
      "outputs": [
        {
          "output_type": "execute_result",
          "data": {
            "text/html": [
              "<div>\n",
              "<style scoped>\n",
              "    .dataframe tbody tr th:only-of-type {\n",
              "        vertical-align: middle;\n",
              "    }\n",
              "\n",
              "    .dataframe tbody tr th {\n",
              "        vertical-align: top;\n",
              "    }\n",
              "\n",
              "    .dataframe thead th {\n",
              "        text-align: right;\n",
              "    }\n",
              "</style>\n",
              "<table border=\"1\" class=\"dataframe\">\n",
              "  <thead>\n",
              "    <tr style=\"text-align: right;\">\n",
              "      <th></th>\n",
              "      <th>Nama</th>\n",
              "      <th>Juruan</th>\n",
              "      <th>Nilai</th>\n",
              "    </tr>\n",
              "  </thead>\n",
              "  <tbody>\n",
              "    <tr>\n",
              "      <th>0</th>\n",
              "      <td>Iyem</td>\n",
              "      <td>Hukum</td>\n",
              "      <td>90</td>\n",
              "    </tr>\n",
              "    <tr>\n",
              "      <th>1</th>\n",
              "      <td>Indah</td>\n",
              "      <td>Biologi</td>\n",
              "      <td>40</td>\n",
              "    </tr>\n",
              "    <tr>\n",
              "      <th>2</th>\n",
              "      <td>Ira</td>\n",
              "      <td>Kimia</td>\n",
              "      <td>80</td>\n",
              "    </tr>\n",
              "    <tr>\n",
              "      <th>3</th>\n",
              "      <td>Inem</td>\n",
              "      <td>Aktuaria</td>\n",
              "      <td>98</td>\n",
              "    </tr>\n",
              "  </tbody>\n",
              "</table>\n",
              "</div>"
            ],
            "text/plain": [
              "    Nama    Juruan  Nilai\n",
              "0   Iyem     Hukum     90\n",
              "1  Indah   Biologi     40\n",
              "2    Ira     Kimia     80\n",
              "3   Inem  Aktuaria     98"
            ]
          },
          "metadata": {
            "tags": []
          },
          "execution_count": 15
        }
      ]
    },
    {
      "cell_type": "markdown",
      "metadata": {
        "id": "XnExr8b-3DTu"
      },
      "source": [
        "### Mengimpor DataFrame Pada Python"
      ]
    },
    {
      "cell_type": "markdown",
      "metadata": {
        "id": "x4QUxPDF3ZRs"
      },
      "source": [
        "**Mengimpor Data Frame dari Format CSV**"
      ]
    },
    {
      "cell_type": "code",
      "metadata": {
        "colab": {
          "base_uri": "https://localhost:8080/",
          "height": 419
        },
        "id": "fxFaXdan3Gsx",
        "outputId": "de682ecb-2b5a-493b-f395-f0fa00450ad1"
      },
      "source": [
        "# Mengimpor Data Frame\n",
        "df = pd.read_csv(\"https://raw.githubusercontent.com/Erykka/Basic-Python-Programming-for-Data-Science/main/SuperStoreDataset.csv\")\n",
        "\n",
        "# Memanggil Data Frame\n",
        "df"
      ],
      "execution_count": null,
      "outputs": [
        {
          "output_type": "execute_result",
          "data": {
            "text/html": [
              "<div>\n",
              "<style scoped>\n",
              "    .dataframe tbody tr th:only-of-type {\n",
              "        vertical-align: middle;\n",
              "    }\n",
              "\n",
              "    .dataframe tbody tr th {\n",
              "        vertical-align: top;\n",
              "    }\n",
              "\n",
              "    .dataframe thead th {\n",
              "        text-align: right;\n",
              "    }\n",
              "</style>\n",
              "<table border=\"1\" class=\"dataframe\">\n",
              "  <thead>\n",
              "    <tr style=\"text-align: right;\">\n",
              "      <th></th>\n",
              "      <th>order_id</th>\n",
              "      <th>order_date</th>\n",
              "      <th>customer_id</th>\n",
              "      <th>segment</th>\n",
              "      <th>category</th>\n",
              "      <th>sub_category</th>\n",
              "      <th>sales</th>\n",
              "      <th>quantity</th>\n",
              "      <th>profit</th>\n",
              "    </tr>\n",
              "  </thead>\n",
              "  <tbody>\n",
              "    <tr>\n",
              "      <th>0</th>\n",
              "      <td>CA-2016-152156</td>\n",
              "      <td>11/8/2016</td>\n",
              "      <td>CG-12520</td>\n",
              "      <td>Consumer</td>\n",
              "      <td>Furniture</td>\n",
              "      <td>Bookcases</td>\n",
              "      <td>26196</td>\n",
              "      <td>2</td>\n",
              "      <td>419136</td>\n",
              "    </tr>\n",
              "    <tr>\n",
              "      <th>1</th>\n",
              "      <td>CA-2016-152156</td>\n",
              "      <td>11/8/2016</td>\n",
              "      <td>CG-12520</td>\n",
              "      <td>Consumer</td>\n",
              "      <td>Furniture</td>\n",
              "      <td>Chairs</td>\n",
              "      <td>73194</td>\n",
              "      <td>3</td>\n",
              "      <td>219582</td>\n",
              "    </tr>\n",
              "    <tr>\n",
              "      <th>2</th>\n",
              "      <td>CA-2016-138688</td>\n",
              "      <td>6/12/2016</td>\n",
              "      <td>DV-13045</td>\n",
              "      <td>Corporate</td>\n",
              "      <td>Office Supplies</td>\n",
              "      <td>Labels</td>\n",
              "      <td>1462</td>\n",
              "      <td>2</td>\n",
              "      <td>68714</td>\n",
              "    </tr>\n",
              "    <tr>\n",
              "      <th>3</th>\n",
              "      <td>US-2015-108966</td>\n",
              "      <td>10/11/2015</td>\n",
              "      <td>SO-20335</td>\n",
              "      <td>Consumer</td>\n",
              "      <td>Furniture</td>\n",
              "      <td>Tables</td>\n",
              "      <td>9575775</td>\n",
              "      <td>5</td>\n",
              "      <td>-383031</td>\n",
              "    </tr>\n",
              "    <tr>\n",
              "      <th>4</th>\n",
              "      <td>US-2015-108966</td>\n",
              "      <td>10/11/2015</td>\n",
              "      <td>SO-20335</td>\n",
              "      <td>Consumer</td>\n",
              "      <td>Office Supplies</td>\n",
              "      <td>Storage</td>\n",
              "      <td>22368</td>\n",
              "      <td>2</td>\n",
              "      <td>25164</td>\n",
              "    </tr>\n",
              "    <tr>\n",
              "      <th>...</th>\n",
              "      <td>...</td>\n",
              "      <td>...</td>\n",
              "      <td>...</td>\n",
              "      <td>...</td>\n",
              "      <td>...</td>\n",
              "      <td>...</td>\n",
              "      <td>...</td>\n",
              "      <td>...</td>\n",
              "      <td>...</td>\n",
              "    </tr>\n",
              "    <tr>\n",
              "      <th>9983</th>\n",
              "      <td>CA-2014-110422</td>\n",
              "      <td>1/21/2014</td>\n",
              "      <td>TB-21400</td>\n",
              "      <td>Consumer</td>\n",
              "      <td>Furniture</td>\n",
              "      <td>Furnishings</td>\n",
              "      <td>25248</td>\n",
              "      <td>3</td>\n",
              "      <td>41028</td>\n",
              "    </tr>\n",
              "    <tr>\n",
              "      <th>9984</th>\n",
              "      <td>CA-2017-121258</td>\n",
              "      <td>2/26/2017</td>\n",
              "      <td>DB-13060</td>\n",
              "      <td>Consumer</td>\n",
              "      <td>Furniture</td>\n",
              "      <td>Furnishings</td>\n",
              "      <td>9196</td>\n",
              "      <td>2</td>\n",
              "      <td>156332</td>\n",
              "    </tr>\n",
              "    <tr>\n",
              "      <th>9985</th>\n",
              "      <td>CA-2017-121258</td>\n",
              "      <td>2/26/2017</td>\n",
              "      <td>DB-13060</td>\n",
              "      <td>Consumer</td>\n",
              "      <td>Technology</td>\n",
              "      <td>Phones</td>\n",
              "      <td>258576</td>\n",
              "      <td>2</td>\n",
              "      <td>193932</td>\n",
              "    </tr>\n",
              "    <tr>\n",
              "      <th>9986</th>\n",
              "      <td>CA-2017-121258</td>\n",
              "      <td>2/26/2017</td>\n",
              "      <td>DB-13060</td>\n",
              "      <td>Consumer</td>\n",
              "      <td>Office Supplies</td>\n",
              "      <td>Paper</td>\n",
              "      <td>296</td>\n",
              "      <td>4</td>\n",
              "      <td>1332</td>\n",
              "    </tr>\n",
              "    <tr>\n",
              "      <th>9987</th>\n",
              "      <td>CA-2017-119914</td>\n",
              "      <td>5/4/2017</td>\n",
              "      <td>CC-12220</td>\n",
              "      <td>Consumer</td>\n",
              "      <td>Office Supplies</td>\n",
              "      <td>Appliances</td>\n",
              "      <td>24316</td>\n",
              "      <td>2</td>\n",
              "      <td>72948</td>\n",
              "    </tr>\n",
              "  </tbody>\n",
              "</table>\n",
              "<p>9988 rows × 9 columns</p>\n",
              "</div>"
            ],
            "text/plain": [
              "            order_id  order_date customer_id  ...    sales quantity  profit\n",
              "0     CA-2016-152156   11/8/2016    CG-12520  ...    26196        2  419136\n",
              "1     CA-2016-152156   11/8/2016    CG-12520  ...    73194        3  219582\n",
              "2     CA-2016-138688   6/12/2016    DV-13045  ...     1462        2   68714\n",
              "3     US-2015-108966  10/11/2015    SO-20335  ...  9575775        5 -383031\n",
              "4     US-2015-108966  10/11/2015    SO-20335  ...    22368        2   25164\n",
              "...              ...         ...         ...  ...      ...      ...     ...\n",
              "9983  CA-2014-110422   1/21/2014    TB-21400  ...    25248        3   41028\n",
              "9984  CA-2017-121258   2/26/2017    DB-13060  ...     9196        2  156332\n",
              "9985  CA-2017-121258   2/26/2017    DB-13060  ...   258576        2  193932\n",
              "9986  CA-2017-121258   2/26/2017    DB-13060  ...      296        4    1332\n",
              "9987  CA-2017-119914    5/4/2017    CC-12220  ...    24316        2   72948\n",
              "\n",
              "[9988 rows x 9 columns]"
            ]
          },
          "metadata": {
            "tags": []
          },
          "execution_count": 16
        }
      ]
    },
    {
      "cell_type": "markdown",
      "metadata": {
        "id": "xQGhduU6hDWT"
      },
      "source": [
        "**Mengimpor Data Frame dari Format XLS/XLSX**"
      ]
    },
    {
      "cell_type": "code",
      "metadata": {
        "colab": {
          "base_uri": "https://localhost:8080/",
          "height": 391
        },
        "id": "reZBu5fZhJM5",
        "outputId": "33089cc5-6fc6-4158-bc19-1da4d1c50212"
      },
      "source": [
        "# Mengimpor Data Frame\n",
        "df = pd.read_excel(\"/content/SuperStoreDataset.xlsx\") #Pastikan sudah diupload di folder\n",
        "\n",
        "# Memanggil Data Frame\n",
        "df"
      ],
      "execution_count": null,
      "outputs": [
        {
          "output_type": "error",
          "ename": "FileNotFoundError",
          "evalue": "ignored",
          "traceback": [
            "\u001b[0;31m---------------------------------------------------------------------------\u001b[0m",
            "\u001b[0;31mFileNotFoundError\u001b[0m                         Traceback (most recent call last)",
            "\u001b[0;32m<ipython-input-17-3fffa1fe32d6>\u001b[0m in \u001b[0;36m<module>\u001b[0;34m()\u001b[0m\n\u001b[1;32m      1\u001b[0m \u001b[0;31m# Mengimpor Data Frame\u001b[0m\u001b[0;34m\u001b[0m\u001b[0;34m\u001b[0m\u001b[0;34m\u001b[0m\u001b[0m\n\u001b[0;32m----> 2\u001b[0;31m \u001b[0mdf\u001b[0m \u001b[0;34m=\u001b[0m \u001b[0mpd\u001b[0m\u001b[0;34m.\u001b[0m\u001b[0mread_excel\u001b[0m\u001b[0;34m(\u001b[0m\u001b[0;34m\"/content/SuperStoreDataset.xlsx\"\u001b[0m\u001b[0;34m)\u001b[0m \u001b[0;31m#Pastikan sudah diupload di folder\u001b[0m\u001b[0;34m\u001b[0m\u001b[0;34m\u001b[0m\u001b[0m\n\u001b[0m\u001b[1;32m      3\u001b[0m \u001b[0;34m\u001b[0m\u001b[0m\n\u001b[1;32m      4\u001b[0m \u001b[0;31m# Memanggil Data Frame\u001b[0m\u001b[0;34m\u001b[0m\u001b[0;34m\u001b[0m\u001b[0;34m\u001b[0m\u001b[0m\n\u001b[1;32m      5\u001b[0m \u001b[0mdf\u001b[0m\u001b[0;34m\u001b[0m\u001b[0;34m\u001b[0m\u001b[0m\n",
            "\u001b[0;32m/usr/local/lib/python3.7/dist-packages/pandas/util/_decorators.py\u001b[0m in \u001b[0;36mwrapper\u001b[0;34m(*args, **kwargs)\u001b[0m\n\u001b[1;32m    294\u001b[0m                 )\n\u001b[1;32m    295\u001b[0m                 \u001b[0mwarnings\u001b[0m\u001b[0;34m.\u001b[0m\u001b[0mwarn\u001b[0m\u001b[0;34m(\u001b[0m\u001b[0mmsg\u001b[0m\u001b[0;34m,\u001b[0m \u001b[0mFutureWarning\u001b[0m\u001b[0;34m,\u001b[0m \u001b[0mstacklevel\u001b[0m\u001b[0;34m=\u001b[0m\u001b[0mstacklevel\u001b[0m\u001b[0;34m)\u001b[0m\u001b[0;34m\u001b[0m\u001b[0;34m\u001b[0m\u001b[0m\n\u001b[0;32m--> 296\u001b[0;31m             \u001b[0;32mreturn\u001b[0m \u001b[0mfunc\u001b[0m\u001b[0;34m(\u001b[0m\u001b[0;34m*\u001b[0m\u001b[0margs\u001b[0m\u001b[0;34m,\u001b[0m \u001b[0;34m**\u001b[0m\u001b[0mkwargs\u001b[0m\u001b[0;34m)\u001b[0m\u001b[0;34m\u001b[0m\u001b[0;34m\u001b[0m\u001b[0m\n\u001b[0m\u001b[1;32m    297\u001b[0m \u001b[0;34m\u001b[0m\u001b[0m\n\u001b[1;32m    298\u001b[0m         \u001b[0;32mreturn\u001b[0m \u001b[0mwrapper\u001b[0m\u001b[0;34m\u001b[0m\u001b[0;34m\u001b[0m\u001b[0m\n",
            "\u001b[0;32m/usr/local/lib/python3.7/dist-packages/pandas/io/excel/_base.py\u001b[0m in \u001b[0;36mread_excel\u001b[0;34m(io, sheet_name, header, names, index_col, usecols, squeeze, dtype, engine, converters, true_values, false_values, skiprows, nrows, na_values, keep_default_na, na_filter, verbose, parse_dates, date_parser, thousands, comment, skipfooter, convert_float, mangle_dupe_cols)\u001b[0m\n\u001b[1;32m    302\u001b[0m \u001b[0;34m\u001b[0m\u001b[0m\n\u001b[1;32m    303\u001b[0m     \u001b[0;32mif\u001b[0m \u001b[0;32mnot\u001b[0m \u001b[0misinstance\u001b[0m\u001b[0;34m(\u001b[0m\u001b[0mio\u001b[0m\u001b[0;34m,\u001b[0m \u001b[0mExcelFile\u001b[0m\u001b[0;34m)\u001b[0m\u001b[0;34m:\u001b[0m\u001b[0;34m\u001b[0m\u001b[0;34m\u001b[0m\u001b[0m\n\u001b[0;32m--> 304\u001b[0;31m         \u001b[0mio\u001b[0m \u001b[0;34m=\u001b[0m \u001b[0mExcelFile\u001b[0m\u001b[0;34m(\u001b[0m\u001b[0mio\u001b[0m\u001b[0;34m,\u001b[0m \u001b[0mengine\u001b[0m\u001b[0;34m=\u001b[0m\u001b[0mengine\u001b[0m\u001b[0;34m)\u001b[0m\u001b[0;34m\u001b[0m\u001b[0;34m\u001b[0m\u001b[0m\n\u001b[0m\u001b[1;32m    305\u001b[0m     \u001b[0;32melif\u001b[0m \u001b[0mengine\u001b[0m \u001b[0;32mand\u001b[0m \u001b[0mengine\u001b[0m \u001b[0;34m!=\u001b[0m \u001b[0mio\u001b[0m\u001b[0;34m.\u001b[0m\u001b[0mengine\u001b[0m\u001b[0;34m:\u001b[0m\u001b[0;34m\u001b[0m\u001b[0;34m\u001b[0m\u001b[0m\n\u001b[1;32m    306\u001b[0m         raise ValueError(\n",
            "\u001b[0;32m/usr/local/lib/python3.7/dist-packages/pandas/io/excel/_base.py\u001b[0m in \u001b[0;36m__init__\u001b[0;34m(self, path_or_buffer, engine)\u001b[0m\n\u001b[1;32m    865\u001b[0m         \u001b[0mself\u001b[0m\u001b[0;34m.\u001b[0m\u001b[0m_io\u001b[0m \u001b[0;34m=\u001b[0m \u001b[0mstringify_path\u001b[0m\u001b[0;34m(\u001b[0m\u001b[0mpath_or_buffer\u001b[0m\u001b[0;34m)\u001b[0m\u001b[0;34m\u001b[0m\u001b[0;34m\u001b[0m\u001b[0m\n\u001b[1;32m    866\u001b[0m \u001b[0;34m\u001b[0m\u001b[0m\n\u001b[0;32m--> 867\u001b[0;31m         \u001b[0mself\u001b[0m\u001b[0;34m.\u001b[0m\u001b[0m_reader\u001b[0m \u001b[0;34m=\u001b[0m \u001b[0mself\u001b[0m\u001b[0;34m.\u001b[0m\u001b[0m_engines\u001b[0m\u001b[0;34m[\u001b[0m\u001b[0mengine\u001b[0m\u001b[0;34m]\u001b[0m\u001b[0;34m(\u001b[0m\u001b[0mself\u001b[0m\u001b[0;34m.\u001b[0m\u001b[0m_io\u001b[0m\u001b[0;34m)\u001b[0m\u001b[0;34m\u001b[0m\u001b[0;34m\u001b[0m\u001b[0m\n\u001b[0m\u001b[1;32m    868\u001b[0m \u001b[0;34m\u001b[0m\u001b[0m\n\u001b[1;32m    869\u001b[0m     \u001b[0;32mdef\u001b[0m \u001b[0m__fspath__\u001b[0m\u001b[0;34m(\u001b[0m\u001b[0mself\u001b[0m\u001b[0;34m)\u001b[0m\u001b[0;34m:\u001b[0m\u001b[0;34m\u001b[0m\u001b[0;34m\u001b[0m\u001b[0m\n",
            "\u001b[0;32m/usr/local/lib/python3.7/dist-packages/pandas/io/excel/_xlrd.py\u001b[0m in \u001b[0;36m__init__\u001b[0;34m(self, filepath_or_buffer)\u001b[0m\n\u001b[1;32m     20\u001b[0m         \u001b[0merr_msg\u001b[0m \u001b[0;34m=\u001b[0m \u001b[0;34m\"Install xlrd >= 1.0.0 for Excel support\"\u001b[0m\u001b[0;34m\u001b[0m\u001b[0;34m\u001b[0m\u001b[0m\n\u001b[1;32m     21\u001b[0m         \u001b[0mimport_optional_dependency\u001b[0m\u001b[0;34m(\u001b[0m\u001b[0;34m\"xlrd\"\u001b[0m\u001b[0;34m,\u001b[0m \u001b[0mextra\u001b[0m\u001b[0;34m=\u001b[0m\u001b[0merr_msg\u001b[0m\u001b[0;34m)\u001b[0m\u001b[0;34m\u001b[0m\u001b[0;34m\u001b[0m\u001b[0m\n\u001b[0;32m---> 22\u001b[0;31m         \u001b[0msuper\u001b[0m\u001b[0;34m(\u001b[0m\u001b[0;34m)\u001b[0m\u001b[0;34m.\u001b[0m\u001b[0m__init__\u001b[0m\u001b[0;34m(\u001b[0m\u001b[0mfilepath_or_buffer\u001b[0m\u001b[0;34m)\u001b[0m\u001b[0;34m\u001b[0m\u001b[0;34m\u001b[0m\u001b[0m\n\u001b[0m\u001b[1;32m     23\u001b[0m \u001b[0;34m\u001b[0m\u001b[0m\n\u001b[1;32m     24\u001b[0m     \u001b[0;34m@\u001b[0m\u001b[0mproperty\u001b[0m\u001b[0;34m\u001b[0m\u001b[0;34m\u001b[0m\u001b[0m\n",
            "\u001b[0;32m/usr/local/lib/python3.7/dist-packages/pandas/io/excel/_base.py\u001b[0m in \u001b[0;36m__init__\u001b[0;34m(self, filepath_or_buffer)\u001b[0m\n\u001b[1;32m    351\u001b[0m             \u001b[0mself\u001b[0m\u001b[0;34m.\u001b[0m\u001b[0mbook\u001b[0m \u001b[0;34m=\u001b[0m \u001b[0mself\u001b[0m\u001b[0;34m.\u001b[0m\u001b[0mload_workbook\u001b[0m\u001b[0;34m(\u001b[0m\u001b[0mfilepath_or_buffer\u001b[0m\u001b[0;34m)\u001b[0m\u001b[0;34m\u001b[0m\u001b[0;34m\u001b[0m\u001b[0m\n\u001b[1;32m    352\u001b[0m         \u001b[0;32melif\u001b[0m \u001b[0misinstance\u001b[0m\u001b[0;34m(\u001b[0m\u001b[0mfilepath_or_buffer\u001b[0m\u001b[0;34m,\u001b[0m \u001b[0mstr\u001b[0m\u001b[0;34m)\u001b[0m\u001b[0;34m:\u001b[0m\u001b[0;34m\u001b[0m\u001b[0;34m\u001b[0m\u001b[0m\n\u001b[0;32m--> 353\u001b[0;31m             \u001b[0mself\u001b[0m\u001b[0;34m.\u001b[0m\u001b[0mbook\u001b[0m \u001b[0;34m=\u001b[0m \u001b[0mself\u001b[0m\u001b[0;34m.\u001b[0m\u001b[0mload_workbook\u001b[0m\u001b[0;34m(\u001b[0m\u001b[0mfilepath_or_buffer\u001b[0m\u001b[0;34m)\u001b[0m\u001b[0;34m\u001b[0m\u001b[0;34m\u001b[0m\u001b[0m\n\u001b[0m\u001b[1;32m    354\u001b[0m         \u001b[0;32melif\u001b[0m \u001b[0misinstance\u001b[0m\u001b[0;34m(\u001b[0m\u001b[0mfilepath_or_buffer\u001b[0m\u001b[0;34m,\u001b[0m \u001b[0mbytes\u001b[0m\u001b[0;34m)\u001b[0m\u001b[0;34m:\u001b[0m\u001b[0;34m\u001b[0m\u001b[0;34m\u001b[0m\u001b[0m\n\u001b[1;32m    355\u001b[0m             \u001b[0mself\u001b[0m\u001b[0;34m.\u001b[0m\u001b[0mbook\u001b[0m \u001b[0;34m=\u001b[0m \u001b[0mself\u001b[0m\u001b[0;34m.\u001b[0m\u001b[0mload_workbook\u001b[0m\u001b[0;34m(\u001b[0m\u001b[0mBytesIO\u001b[0m\u001b[0;34m(\u001b[0m\u001b[0mfilepath_or_buffer\u001b[0m\u001b[0;34m)\u001b[0m\u001b[0;34m)\u001b[0m\u001b[0;34m\u001b[0m\u001b[0;34m\u001b[0m\u001b[0m\n",
            "\u001b[0;32m/usr/local/lib/python3.7/dist-packages/pandas/io/excel/_xlrd.py\u001b[0m in \u001b[0;36mload_workbook\u001b[0;34m(self, filepath_or_buffer)\u001b[0m\n\u001b[1;32m     35\u001b[0m             \u001b[0;32mreturn\u001b[0m \u001b[0mopen_workbook\u001b[0m\u001b[0;34m(\u001b[0m\u001b[0mfile_contents\u001b[0m\u001b[0;34m=\u001b[0m\u001b[0mdata\u001b[0m\u001b[0;34m)\u001b[0m\u001b[0;34m\u001b[0m\u001b[0;34m\u001b[0m\u001b[0m\n\u001b[1;32m     36\u001b[0m         \u001b[0;32melse\u001b[0m\u001b[0;34m:\u001b[0m\u001b[0;34m\u001b[0m\u001b[0;34m\u001b[0m\u001b[0m\n\u001b[0;32m---> 37\u001b[0;31m             \u001b[0;32mreturn\u001b[0m \u001b[0mopen_workbook\u001b[0m\u001b[0;34m(\u001b[0m\u001b[0mfilepath_or_buffer\u001b[0m\u001b[0;34m)\u001b[0m\u001b[0;34m\u001b[0m\u001b[0;34m\u001b[0m\u001b[0m\n\u001b[0m\u001b[1;32m     38\u001b[0m \u001b[0;34m\u001b[0m\u001b[0m\n\u001b[1;32m     39\u001b[0m     \u001b[0;34m@\u001b[0m\u001b[0mproperty\u001b[0m\u001b[0;34m\u001b[0m\u001b[0;34m\u001b[0m\u001b[0m\n",
            "\u001b[0;32m/usr/local/lib/python3.7/dist-packages/xlrd/__init__.py\u001b[0m in \u001b[0;36mopen_workbook\u001b[0;34m(filename, logfile, verbosity, use_mmap, file_contents, encoding_override, formatting_info, on_demand, ragged_rows)\u001b[0m\n\u001b[1;32m    114\u001b[0m         \u001b[0mpeek\u001b[0m \u001b[0;34m=\u001b[0m \u001b[0mfile_contents\u001b[0m\u001b[0;34m[\u001b[0m\u001b[0;34m:\u001b[0m\u001b[0mpeeksz\u001b[0m\u001b[0;34m]\u001b[0m\u001b[0;34m\u001b[0m\u001b[0;34m\u001b[0m\u001b[0m\n\u001b[1;32m    115\u001b[0m     \u001b[0;32melse\u001b[0m\u001b[0;34m:\u001b[0m\u001b[0;34m\u001b[0m\u001b[0;34m\u001b[0m\u001b[0m\n\u001b[0;32m--> 116\u001b[0;31m         \u001b[0;32mwith\u001b[0m \u001b[0mopen\u001b[0m\u001b[0;34m(\u001b[0m\u001b[0mfilename\u001b[0m\u001b[0;34m,\u001b[0m \u001b[0;34m\"rb\"\u001b[0m\u001b[0;34m)\u001b[0m \u001b[0;32mas\u001b[0m \u001b[0mf\u001b[0m\u001b[0;34m:\u001b[0m\u001b[0;34m\u001b[0m\u001b[0;34m\u001b[0m\u001b[0m\n\u001b[0m\u001b[1;32m    117\u001b[0m             \u001b[0mpeek\u001b[0m \u001b[0;34m=\u001b[0m \u001b[0mf\u001b[0m\u001b[0;34m.\u001b[0m\u001b[0mread\u001b[0m\u001b[0;34m(\u001b[0m\u001b[0mpeeksz\u001b[0m\u001b[0;34m)\u001b[0m\u001b[0;34m\u001b[0m\u001b[0;34m\u001b[0m\u001b[0m\n\u001b[1;32m    118\u001b[0m     \u001b[0;32mif\u001b[0m \u001b[0mpeek\u001b[0m \u001b[0;34m==\u001b[0m \u001b[0;34mb\"PK\\x03\\x04\"\u001b[0m\u001b[0;34m:\u001b[0m \u001b[0;31m# a ZIP file\u001b[0m\u001b[0;34m\u001b[0m\u001b[0;34m\u001b[0m\u001b[0m\n",
            "\u001b[0;31mFileNotFoundError\u001b[0m: [Errno 2] No such file or directory: '/content/SuperStoreDataset.xlsx'"
          ]
        }
      ]
    },
    {
      "cell_type": "markdown",
      "metadata": {
        "id": "0toByftAgOSd"
      },
      "source": [
        "### Eksplorasi Data Frame"
      ]
    },
    {
      "cell_type": "markdown",
      "metadata": {
        "id": "5S7WUNNXgYw2"
      },
      "source": [
        "**Head**"
      ]
    },
    {
      "cell_type": "code",
      "metadata": {
        "id": "o-Y6ezGlEyjj"
      },
      "source": [
        "#Melihat data teratas pada dataframe(default 5)\n",
        "df.head()"
      ],
      "execution_count": null,
      "outputs": []
    },
    {
      "cell_type": "markdown",
      "metadata": {
        "id": "dDdPPzqMgpuM"
      },
      "source": [
        "**Tails**"
      ]
    },
    {
      "cell_type": "code",
      "metadata": {
        "id": "9SaSp3ThgrMu"
      },
      "source": [
        "#Melihat data terbawah pada dataframe(default 5)\n",
        "df.tail()"
      ],
      "execution_count": null,
      "outputs": []
    },
    {
      "cell_type": "markdown",
      "metadata": {
        "id": "5YNoJ27_gzz8"
      },
      "source": [
        "**Shape**"
      ]
    },
    {
      "cell_type": "code",
      "metadata": {
        "id": "xUk4Drn4g2Bg"
      },
      "source": [
        "#Melihat ukuran data frame(Baris X Kolom)\n",
        "df.shape"
      ],
      "execution_count": null,
      "outputs": []
    },
    {
      "cell_type": "markdown",
      "metadata": {
        "id": "N_XQa_bTqKN2"
      },
      "source": [
        "**Column Names**"
      ]
    },
    {
      "cell_type": "code",
      "metadata": {
        "id": "8xhSQSUsqHyB"
      },
      "source": [
        "#Melihat nama-nama Kolom\n",
        "df.columns.values "
      ],
      "execution_count": null,
      "outputs": []
    },
    {
      "cell_type": "markdown",
      "metadata": {
        "id": "xWbs3qSHg9V1"
      },
      "source": [
        "**Tipe Data Masing-masing Kolom**"
      ]
    },
    {
      "cell_type": "code",
      "metadata": {
        "id": "Icp_y3t6qShH"
      },
      "source": [
        "#Melihat Tipe Data Masing-masing Kolom\n",
        "df.dtypes"
      ],
      "execution_count": null,
      "outputs": []
    },
    {
      "cell_type": "code",
      "metadata": {
        "id": "PIFmlMNohEQe"
      },
      "source": [
        "#Melihat Tipe Data Masing-masing Kolom dengan lebih lengkap\n",
        "df.info()"
      ],
      "execution_count": null,
      "outputs": []
    },
    {
      "cell_type": "markdown",
      "metadata": {
        "id": "rjhfy4-fhX90"
      },
      "source": [
        "**Describe**"
      ]
    },
    {
      "cell_type": "code",
      "metadata": {
        "id": "S4RGqRPOhZ_F"
      },
      "source": [
        "#Melihat statistik masing-masing kolom bertipe numerik\n",
        "df.describe()"
      ],
      "execution_count": null,
      "outputs": []
    },
    {
      "cell_type": "markdown",
      "metadata": {
        "id": "XziusGcaiUrI"
      },
      "source": [
        "### Akses Data Frame(Slicing)"
      ]
    },
    {
      "cell_type": "markdown",
      "metadata": {
        "id": "nVFCQIH2iZDg"
      },
      "source": [
        "**Mengakses DataFrame Berdasarkan Baris**"
      ]
    },
    {
      "cell_type": "code",
      "metadata": {
        "id": "xTPsqGGLid8i"
      },
      "source": [
        "df[0:10] #Mengakses data Frame dari baris pertama sampai baris ke 10(indeks 0 sampai indeks sebelum 10)"
      ],
      "execution_count": null,
      "outputs": []
    },
    {
      "cell_type": "markdown",
      "metadata": {
        "id": "esoi8AOekonn"
      },
      "source": [
        "**Mengakses DataFrame Berdasarkan Nama Kolom**"
      ]
    },
    {
      "cell_type": "code",
      "metadata": {
        "id": "lwO9nZvQktn_"
      },
      "source": [
        "#Mengakses 1 kolom pada Data Frame, Hasilnya berupa Series\n",
        "df['profit'] "
      ],
      "execution_count": null,
      "outputs": []
    },
    {
      "cell_type": "code",
      "metadata": {
        "id": "3q1Gg1w8lMkp"
      },
      "source": [
        "#[Alternatif lain] Mengakses 1 kolom pada Data Frame, Hasilnya berupa Series\n",
        "df.profit "
      ],
      "execution_count": null,
      "outputs": []
    },
    {
      "cell_type": "code",
      "metadata": {
        "id": "SHy3p0jTlU_e"
      },
      "source": [
        "#Mengakses Data Frame lebih dari 1 kolom\n",
        "df[['profit', 'customer_id']] "
      ],
      "execution_count": null,
      "outputs": []
    },
    {
      "cell_type": "code",
      "metadata": {
        "id": "wW7rz_9nlrl7"
      },
      "source": [
        "#Menerapkan fungsi head pada slicing data frame\n",
        "df[['profit', 'customer_id']].head(6)"
      ],
      "execution_count": null,
      "outputs": []
    },
    {
      "cell_type": "code",
      "metadata": {
        "id": "R3RQANhql21P"
      },
      "source": [
        "#Mengakses data frame pada baris dan kolom tertentu\n",
        "df.iloc[0,2]"
      ],
      "execution_count": null,
      "outputs": []
    },
    {
      "cell_type": "code",
      "metadata": {
        "id": "CKLoge1Fl-b2"
      },
      "source": [
        "#Mengakses data frame pada baris dan kolom tertentu [Bentuk Interval]\n",
        "df.iloc[0:10,2:5]"
      ],
      "execution_count": null,
      "outputs": []
    },
    {
      "cell_type": "code",
      "metadata": {
        "id": "F4xVPDttmOIo"
      },
      "source": [
        "#Mengakses data pada kolom tertentu dengan kriteria tertentu\n",
        "print(df[df['profit']>=68714])\n",
        "\n",
        "print(df['profit'].max())"
      ],
      "execution_count": null,
      "outputs": []
    },
    {
      "cell_type": "code",
      "metadata": {
        "id": "NGcsH8axm0pc"
      },
      "source": [
        "#Memperoleh indeks hasil pencarian data dengan kriteria tertentu\n",
        "max_profit=df['profit'].max()\n",
        "df.index[df['profit'] == max_profit].tolist()"
      ],
      "execution_count": null,
      "outputs": []
    },
    {
      "cell_type": "code",
      "metadata": {
        "id": "HAPMmsgh1Y5P"
      },
      "source": [
        "#Memperoleh indeks hasil pencarian data dengan kriteria tertentu (Menggunakan And)\n",
        "df[(df['profit']>=68714) & (df['quantity']>=2)]"
      ],
      "execution_count": null,
      "outputs": []
    },
    {
      "cell_type": "code",
      "metadata": {
        "id": "hrgi3hC81juy"
      },
      "source": [
        "#Memperoleh indeks hasil pencarian data dengan kriteria tertentu (Menggunakan Or)\n",
        "df[(df['profit']>=68714) | (df['quantity']>=2)]"
      ],
      "execution_count": null,
      "outputs": []
    },
    {
      "cell_type": "markdown",
      "metadata": {
        "id": "bJM6VDIsoJx4"
      },
      "source": [
        "### Modifikasi Data Frame 1(Sort & Cleaning)"
      ]
    },
    {
      "cell_type": "markdown",
      "metadata": {
        "id": "KMifmZqqop5j"
      },
      "source": [
        "**Mengurutkan Data Berdasarkan Kolom tertentu**"
      ]
    },
    {
      "cell_type": "code",
      "metadata": {
        "id": "o9plWZcZo4w9"
      },
      "source": [
        "#Mengurutkan data frame berdasarkan 1 kolom\n",
        "df.sort_values(['profit'], ascending=True)"
      ],
      "execution_count": null,
      "outputs": []
    },
    {
      "cell_type": "code",
      "metadata": {
        "id": "fN_HbyIroQ4X"
      },
      "source": [
        "#Mengurutkan data frame dengan lebih dari 1 kolom\n",
        "df.sort_values(['profit', 'quantity'], ascending=[True, False])"
      ],
      "execution_count": null,
      "outputs": []
    },
    {
      "cell_type": "markdown",
      "metadata": {
        "id": "H8yLzSQ5oYZ0"
      },
      "source": [
        "**Menghapus Missing Data(NA)**"
      ]
    },
    {
      "cell_type": "code",
      "metadata": {
        "id": "peSzATK3oc5A"
      },
      "source": [
        "df.dropna()"
      ],
      "execution_count": null,
      "outputs": []
    },
    {
      "cell_type": "markdown",
      "metadata": {
        "id": "uSBBt9IQq9Sk"
      },
      "source": [
        "### Fungsi-fungsi pada Data Frame"
      ]
    },
    {
      "cell_type": "markdown",
      "metadata": {
        "id": "6FDxncjXu5Gl"
      },
      "source": [
        "**Count**"
      ]
    },
    {
      "cell_type": "code",
      "metadata": {
        "id": "2OWDNdfjz5ty"
      },
      "source": [
        "#Menghitung jumlah baris data dalam suatu kolom\n",
        "df.count()"
      ],
      "execution_count": null,
      "outputs": []
    },
    {
      "cell_type": "markdown",
      "metadata": {
        "id": "choMHlYzu79J"
      },
      "source": [
        "**Value Counts**"
      ]
    },
    {
      "cell_type": "code",
      "metadata": {
        "id": "shEfbzxGz_ao"
      },
      "source": [
        "#Menghitung jumlah data per kelas dalam data kategori\n",
        "df.segment.value_counts()"
      ],
      "execution_count": null,
      "outputs": []
    },
    {
      "cell_type": "markdown",
      "metadata": {
        "id": "QmvUbikRu_dj"
      },
      "source": [
        "**Sum**"
      ]
    },
    {
      "cell_type": "code",
      "metadata": {
        "id": "rYMW8mxB0Kiv"
      },
      "source": [
        "#Menjumlahkan data dalam satu kolom numerik\n",
        "df.profit.sum()"
      ],
      "execution_count": null,
      "outputs": []
    },
    {
      "cell_type": "markdown",
      "metadata": {
        "id": "yjMfJ5QJvF_Q"
      },
      "source": [
        "**Max**"
      ]
    },
    {
      "cell_type": "code",
      "metadata": {
        "id": "Xbt-S_5m0M_C"
      },
      "source": [
        "#Nilai maximum data dalam satu kolom numerik\n",
        "df.profit.max()"
      ],
      "execution_count": null,
      "outputs": []
    },
    {
      "cell_type": "markdown",
      "metadata": {
        "id": "GS_j1wZ7vLBS"
      },
      "source": [
        "**Min**"
      ]
    },
    {
      "cell_type": "code",
      "metadata": {
        "id": "kmlp_l3H0Oos"
      },
      "source": [
        "#Nilai minimum data dalam satu kolom numerik\n",
        "df.profit.min()"
      ],
      "execution_count": null,
      "outputs": []
    },
    {
      "cell_type": "markdown",
      "metadata": {
        "id": "nUj_61a_01e3"
      },
      "source": [
        "**Mean**"
      ]
    },
    {
      "cell_type": "code",
      "metadata": {
        "id": "OkBmJsKI024d"
      },
      "source": [
        "#Nilai rata-rata data dalam satu kolom numerik\n",
        "df.profit.mean()"
      ],
      "execution_count": null,
      "outputs": []
    },
    {
      "cell_type": "markdown",
      "metadata": {
        "id": "jhDveukgwuG7"
      },
      "source": [
        "**Isnull()**"
      ]
    },
    {
      "cell_type": "code",
      "metadata": {
        "id": "0LZEBWB30U8l"
      },
      "source": [
        "#Menghitung jumlah data yang mengandung NA dalam sebuah dataset\n",
        "df.isnull().sum()"
      ],
      "execution_count": null,
      "outputs": []
    },
    {
      "cell_type": "markdown",
      "metadata": {
        "id": "rA_4O8_klUII"
      },
      "source": [
        "## Eksploratory Data Anlysis[EDA] Dasar"
      ]
    },
    {
      "cell_type": "markdown",
      "metadata": {
        "id": "cBtqeVGS3YiZ"
      },
      "source": [
        "Exploratory Data Analysis (EDA) adalah bagian dari proses data science. EDA menjadi sangat penting sebelum melakukan feature engineering dan modeling karena dalam tahap ini kita harus memahami datanya terlebih dahulu.\n",
        "\n",
        "Exploratory Data Analysis mengacu pada proses kritis dalam melakukan investigasi awal pada data untuk menemukan pola, untuk menemukan anomali, untuk menguji hipotesis dan untuk memeriksa asumsi dengan bantuan statistik ringkasan dan representasi grafis. Dengan melakukan EDA, kita dapat lebih memahami kondisi dataset yang kita miliki. "
      ]
    },
    {
      "cell_type": "markdown",
      "metadata": {
        "id": "TQTRIrnnv1d1"
      },
      "source": [
        "### Mengakses dataset"
      ]
    },
    {
      "cell_type": "code",
      "metadata": {
        "id": "v1AmW3H0v4js",
        "colab": {
          "base_uri": "https://localhost:8080/",
          "height": 204
        },
        "outputId": "ead8ea68-05ec-4088-da5c-14c01274c202"
      },
      "source": [
        "df = pd.read_csv(\"https://raw.githubusercontent.com/Erykka/Basic-Python-Programming-for-Data-Science/main/SuperStoreDataset.csv\")\n",
        "df.head() "
      ],
      "execution_count": 18,
      "outputs": [
        {
          "output_type": "execute_result",
          "data": {
            "text/html": [
              "<div>\n",
              "<style scoped>\n",
              "    .dataframe tbody tr th:only-of-type {\n",
              "        vertical-align: middle;\n",
              "    }\n",
              "\n",
              "    .dataframe tbody tr th {\n",
              "        vertical-align: top;\n",
              "    }\n",
              "\n",
              "    .dataframe thead th {\n",
              "        text-align: right;\n",
              "    }\n",
              "</style>\n",
              "<table border=\"1\" class=\"dataframe\">\n",
              "  <thead>\n",
              "    <tr style=\"text-align: right;\">\n",
              "      <th></th>\n",
              "      <th>order_id</th>\n",
              "      <th>order_date</th>\n",
              "      <th>customer_id</th>\n",
              "      <th>segment</th>\n",
              "      <th>category</th>\n",
              "      <th>sub_category</th>\n",
              "      <th>sales</th>\n",
              "      <th>quantity</th>\n",
              "      <th>profit</th>\n",
              "    </tr>\n",
              "  </thead>\n",
              "  <tbody>\n",
              "    <tr>\n",
              "      <th>0</th>\n",
              "      <td>CA-2016-152156</td>\n",
              "      <td>11/8/2016</td>\n",
              "      <td>CG-12520</td>\n",
              "      <td>Consumer</td>\n",
              "      <td>Furniture</td>\n",
              "      <td>Bookcases</td>\n",
              "      <td>26196</td>\n",
              "      <td>2</td>\n",
              "      <td>419136</td>\n",
              "    </tr>\n",
              "    <tr>\n",
              "      <th>1</th>\n",
              "      <td>CA-2016-152156</td>\n",
              "      <td>11/8/2016</td>\n",
              "      <td>CG-12520</td>\n",
              "      <td>Consumer</td>\n",
              "      <td>Furniture</td>\n",
              "      <td>Chairs</td>\n",
              "      <td>73194</td>\n",
              "      <td>3</td>\n",
              "      <td>219582</td>\n",
              "    </tr>\n",
              "    <tr>\n",
              "      <th>2</th>\n",
              "      <td>CA-2016-138688</td>\n",
              "      <td>6/12/2016</td>\n",
              "      <td>DV-13045</td>\n",
              "      <td>Corporate</td>\n",
              "      <td>Office Supplies</td>\n",
              "      <td>Labels</td>\n",
              "      <td>1462</td>\n",
              "      <td>2</td>\n",
              "      <td>68714</td>\n",
              "    </tr>\n",
              "    <tr>\n",
              "      <th>3</th>\n",
              "      <td>US-2015-108966</td>\n",
              "      <td>10/11/2015</td>\n",
              "      <td>SO-20335</td>\n",
              "      <td>Consumer</td>\n",
              "      <td>Furniture</td>\n",
              "      <td>Tables</td>\n",
              "      <td>9575775</td>\n",
              "      <td>5</td>\n",
              "      <td>-383031</td>\n",
              "    </tr>\n",
              "    <tr>\n",
              "      <th>4</th>\n",
              "      <td>US-2015-108966</td>\n",
              "      <td>10/11/2015</td>\n",
              "      <td>SO-20335</td>\n",
              "      <td>Consumer</td>\n",
              "      <td>Office Supplies</td>\n",
              "      <td>Storage</td>\n",
              "      <td>22368</td>\n",
              "      <td>2</td>\n",
              "      <td>25164</td>\n",
              "    </tr>\n",
              "  </tbody>\n",
              "</table>\n",
              "</div>"
            ],
            "text/plain": [
              "         order_id  order_date customer_id  ...    sales quantity  profit\n",
              "0  CA-2016-152156   11/8/2016    CG-12520  ...    26196        2  419136\n",
              "1  CA-2016-152156   11/8/2016    CG-12520  ...    73194        3  219582\n",
              "2  CA-2016-138688   6/12/2016    DV-13045  ...     1462        2   68714\n",
              "3  US-2015-108966  10/11/2015    SO-20335  ...  9575775        5 -383031\n",
              "4  US-2015-108966  10/11/2015    SO-20335  ...    22368        2   25164\n",
              "\n",
              "[5 rows x 9 columns]"
            ]
          },
          "metadata": {
            "tags": []
          },
          "execution_count": 18
        }
      ]
    },
    {
      "cell_type": "markdown",
      "metadata": {
        "id": "fNJlxji43rIv"
      },
      "source": [
        "### Memahami dataset\n",
        "\n",
        "Variabel-variabel yang terdapat pada dataset ini adalah sebagai berikut:\n",
        "1. **order_id** = Nomor ID pembelian(nota)\n",
        "2. **order_data** = Tanggal pembelian\n",
        "3. **customer_id** = Nomor ID pembeli\n",
        "4. **segment** = Segmen produk \n",
        "5. **category** = Kategori produk\n",
        "6. **sub_category** = Sub kategori produk\n",
        "7. **sales** = Total harga pembelian\n",
        "8. **quantity** = Jumlah produk dibeli\n",
        "9. **profit** = Keuntungan\n"
      ]
    },
    {
      "cell_type": "markdown",
      "metadata": {
        "id": "ZSFZKnO2ugvF"
      },
      "source": [
        "### Dimensi Data"
      ]
    },
    {
      "cell_type": "code",
      "metadata": {
        "id": "USvZFUvdunld"
      },
      "source": [
        "df.shape"
      ],
      "execution_count": null,
      "outputs": []
    },
    {
      "cell_type": "markdown",
      "metadata": {
        "id": "Yw0OkOBvwrmT"
      },
      "source": [
        "Artinya kita memiliki data dengan 9 kolom dan 9988 baris"
      ]
    },
    {
      "cell_type": "markdown",
      "metadata": {
        "id": "FKZEipRvu9H1"
      },
      "source": [
        "### Variabel Pada Dataset"
      ]
    },
    {
      "cell_type": "code",
      "metadata": {
        "id": "1lFgrHL6vAbR"
      },
      "source": [
        "df.columns.values "
      ],
      "execution_count": null,
      "outputs": []
    },
    {
      "cell_type": "code",
      "metadata": {
        "id": "o0HNCb-svR3l"
      },
      "source": [
        "df.dtypes"
      ],
      "execution_count": null,
      "outputs": []
    },
    {
      "cell_type": "code",
      "metadata": {
        "id": "0wekaCcvvNhd"
      },
      "source": [
        "df.info() "
      ],
      "execution_count": null,
      "outputs": []
    },
    {
      "cell_type": "markdown",
      "metadata": {
        "id": "bvLXfrx5wzYJ"
      },
      "source": [
        "Kita dapat mengetahui tipe-tipe data masing-masing variabel dan nama-nama variabel dalam dataset"
      ]
    },
    {
      "cell_type": "markdown",
      "metadata": {
        "id": "HR7edLbMvlzc"
      },
      "source": [
        "### Mengecek Missing Data"
      ]
    },
    {
      "cell_type": "code",
      "metadata": {
        "id": "ZUglcu9Qvv5F"
      },
      "source": [
        "df.isnull().sum()"
      ],
      "execution_count": null,
      "outputs": []
    },
    {
      "cell_type": "markdown",
      "metadata": {
        "id": "tp2TMCuhw-rK"
      },
      "source": [
        "Kolom-kolom dengan data kosong adalah: Age, Cabin, Embarked"
      ]
    },
    {
      "cell_type": "markdown",
      "metadata": {
        "id": "5jJs8eXh7ADf"
      },
      "source": [
        "### Melihat Statistik Data"
      ]
    },
    {
      "cell_type": "code",
      "metadata": {
        "id": "L-07vKAL7Cwn"
      },
      "source": [
        "df.describe()"
      ],
      "execution_count": null,
      "outputs": []
    },
    {
      "cell_type": "markdown",
      "metadata": {
        "id": "pzso5T2swz3u"
      },
      "source": [
        "## Eksploratory Data Analysis[EDA] Lanjut"
      ]
    },
    {
      "cell_type": "markdown",
      "metadata": {
        "id": "43apI-8Qw6cq"
      },
      "source": [
        "Setelah EDA dasar, eksplorasi selanjutnya adalah berupa pencarian insight sesuai kebutuhan kita. Misal kita ingin menjawab sebuah pertanyaan seperti berikut:\n",
        "\n",
        "***Segment Produk Apakah Yang memiliki Keuntungan Tertinggi?***"
      ]
    },
    {
      "cell_type": "code",
      "metadata": {
        "id": "2oUlbASIyHs9"
      },
      "source": [
        "#Melihat Segment Apa Saja Yang Ada\n",
        "df.segment.value_counts()"
      ],
      "execution_count": null,
      "outputs": []
    },
    {
      "cell_type": "code",
      "metadata": {
        "id": "gdPJu1LbTFtt"
      },
      "source": [
        "#Memilih masing-masing segmen\n",
        "df_Consumer=df[df['segment']=='Consumer']\n",
        "df_Corporate=df[df['segment']=='Corporate']\n",
        "df_Home_Office=df[df['segment']=='Home Office']"
      ],
      "execution_count": null,
      "outputs": []
    },
    {
      "cell_type": "code",
      "metadata": {
        "id": "xRa3rQqITVj0"
      },
      "source": [
        "df_Consumer.profit.sum()"
      ],
      "execution_count": null,
      "outputs": []
    },
    {
      "cell_type": "code",
      "metadata": {
        "id": "-qbdkVm5p6rp"
      },
      "source": [
        "df_Corporate.profit.sum()"
      ],
      "execution_count": null,
      "outputs": []
    },
    {
      "cell_type": "code",
      "metadata": {
        "id": "8TqVrYBrzTey"
      },
      "source": [
        "df_Home_Office.profit.sum()"
      ],
      "execution_count": null,
      "outputs": []
    },
    {
      "cell_type": "markdown",
      "metadata": {
        "id": "IapQvID7zX2v"
      },
      "source": [
        "Jadi, segmen dengan keuntungan total tertinggi adalah **Consumer**"
      ]
    }
  ]
}