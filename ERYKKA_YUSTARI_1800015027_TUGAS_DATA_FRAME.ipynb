{
  "nbformat": 4,
  "nbformat_minor": 0,
  "metadata": {
    "colab": {
      "name": "ERYKKA YUSTARI_1800015027_TUGAS DATA FRAME.ipynb",
      "provenance": [],
      "collapsed_sections": []
    },
    "kernelspec": {
      "name": "python3",
      "display_name": "Python 3"
    },
    "language_info": {
      "name": "python"
    }
  },
  "cells": [
    {
      "cell_type": "markdown",
      "metadata": {
        "id": "M8-g87tuD9hO"
      },
      "source": [
        "Bismillahirrahmanirrahim\n",
        "\n",
        "TUGAS : ERYKKA YUSTARI"
      ]
    },
    {
      "cell_type": "markdown",
      "metadata": {
        "id": "igjm48vdp5SF"
      },
      "source": [
        "#Tugas Individu"
      ]
    },
    {
      "cell_type": "markdown",
      "metadata": {
        "id": "FpTHwIfhS5mF"
      },
      "source": [
        "\n",
        "1. Tentukan Segment mana dengan profit tertinggi!  [30]\n",
        "2. Tentukan Category mana dengan sales terbanyak!  [30]\n",
        "3. Tentukan Sub-Category dengan quantity paling sedikit! [40]\n",
        "\n",
        "\n",
        "\n",
        "\n",
        "\n",
        "4. **Challange Question!!!  Tentukan Bulan dengan Profit Tertinggi!!!** \n",
        "\n",
        "Bonus Nilai 100 di Salah Satu Tugas Lainnya\n"
      ]
    },
    {
      "cell_type": "markdown",
      "metadata": {
        "id": "rvv_2HWGERoU"
      },
      "source": [
        "# Mengimpor Library"
      ]
    },
    {
      "cell_type": "code",
      "metadata": {
        "id": "gQTRK_e0Ebo8"
      },
      "source": [
        "import pandas as pd\n",
        "import numpy as np"
      ],
      "execution_count": 259,
      "outputs": []
    },
    {
      "cell_type": "markdown",
      "metadata": {
        "id": "kigjLr33E3DV"
      },
      "source": [
        "#Mengimpor Data Frame dari Format CSV"
      ]
    },
    {
      "cell_type": "code",
      "metadata": {
        "colab": {
          "base_uri": "https://localhost:8080/",
          "height": 204
        },
        "id": "MfuNhiJIE7rF",
        "outputId": "ef76c0f3-0e53-4bfb-ee9a-fa0163e8f830"
      },
      "source": [
        "df = pd.read_csv(\"https://raw.githubusercontent.com/jokoeliyanto/Kelas-Dasar-Pejuang-Data-2.0/main/Super-Store-Dataset.csv\")\n",
        "df.head()"
      ],
      "execution_count": 260,
      "outputs": [
        {
          "output_type": "execute_result",
          "data": {
            "text/html": [
              "<div>\n",
              "<style scoped>\n",
              "    .dataframe tbody tr th:only-of-type {\n",
              "        vertical-align: middle;\n",
              "    }\n",
              "\n",
              "    .dataframe tbody tr th {\n",
              "        vertical-align: top;\n",
              "    }\n",
              "\n",
              "    .dataframe thead th {\n",
              "        text-align: right;\n",
              "    }\n",
              "</style>\n",
              "<table border=\"1\" class=\"dataframe\">\n",
              "  <thead>\n",
              "    <tr style=\"text-align: right;\">\n",
              "      <th></th>\n",
              "      <th>order_id</th>\n",
              "      <th>order_date</th>\n",
              "      <th>customer_id</th>\n",
              "      <th>segment</th>\n",
              "      <th>category</th>\n",
              "      <th>sub_category</th>\n",
              "      <th>sales</th>\n",
              "      <th>quantity</th>\n",
              "      <th>profit</th>\n",
              "    </tr>\n",
              "  </thead>\n",
              "  <tbody>\n",
              "    <tr>\n",
              "      <th>0</th>\n",
              "      <td>CA-2016-152156</td>\n",
              "      <td>11/8/2016</td>\n",
              "      <td>CG-12520</td>\n",
              "      <td>Consumer</td>\n",
              "      <td>Furniture</td>\n",
              "      <td>Bookcases</td>\n",
              "      <td>261.9600</td>\n",
              "      <td>2</td>\n",
              "      <td>41.9136</td>\n",
              "    </tr>\n",
              "    <tr>\n",
              "      <th>1</th>\n",
              "      <td>CA-2016-152156</td>\n",
              "      <td>11/8/2016</td>\n",
              "      <td>CG-12520</td>\n",
              "      <td>Consumer</td>\n",
              "      <td>Furniture</td>\n",
              "      <td>Chairs</td>\n",
              "      <td>731.9400</td>\n",
              "      <td>3</td>\n",
              "      <td>219.5820</td>\n",
              "    </tr>\n",
              "    <tr>\n",
              "      <th>2</th>\n",
              "      <td>CA-2016-138688</td>\n",
              "      <td>6/12/2016</td>\n",
              "      <td>DV-13045</td>\n",
              "      <td>Corporate</td>\n",
              "      <td>Office Supplies</td>\n",
              "      <td>Labels</td>\n",
              "      <td>14.6200</td>\n",
              "      <td>2</td>\n",
              "      <td>6.8714</td>\n",
              "    </tr>\n",
              "    <tr>\n",
              "      <th>3</th>\n",
              "      <td>US-2015-108966</td>\n",
              "      <td>10/11/2015</td>\n",
              "      <td>SO-20335</td>\n",
              "      <td>Consumer</td>\n",
              "      <td>Furniture</td>\n",
              "      <td>Tables</td>\n",
              "      <td>957.5775</td>\n",
              "      <td>5</td>\n",
              "      <td>-383.0310</td>\n",
              "    </tr>\n",
              "    <tr>\n",
              "      <th>4</th>\n",
              "      <td>US-2015-108966</td>\n",
              "      <td>10/11/2015</td>\n",
              "      <td>SO-20335</td>\n",
              "      <td>Consumer</td>\n",
              "      <td>Office Supplies</td>\n",
              "      <td>Storage</td>\n",
              "      <td>22.3680</td>\n",
              "      <td>2</td>\n",
              "      <td>2.5164</td>\n",
              "    </tr>\n",
              "  </tbody>\n",
              "</table>\n",
              "</div>"
            ],
            "text/plain": [
              "         order_id  order_date customer_id  ...     sales quantity    profit\n",
              "0  CA-2016-152156   11/8/2016    CG-12520  ...  261.9600        2   41.9136\n",
              "1  CA-2016-152156   11/8/2016    CG-12520  ...  731.9400        3  219.5820\n",
              "2  CA-2016-138688   6/12/2016    DV-13045  ...   14.6200        2    6.8714\n",
              "3  US-2015-108966  10/11/2015    SO-20335  ...  957.5775        5 -383.0310\n",
              "4  US-2015-108966  10/11/2015    SO-20335  ...   22.3680        2    2.5164\n",
              "\n",
              "[5 rows x 9 columns]"
            ]
          },
          "metadata": {
            "tags": []
          },
          "execution_count": 260
        }
      ]
    },
    {
      "cell_type": "markdown",
      "metadata": {
        "id": "fNJlxji43rIv"
      },
      "source": [
        "## Variabel dataframe\n",
        "\n",
        "\n"
      ]
    },
    {
      "cell_type": "markdown",
      "metadata": {
        "id": "yELOC18jK11Q"
      },
      "source": [
        "Variabel-variabel yang terdapat pada dataset ini adalah sebagai berikut:\n",
        "1. **order_id** = Nomor ID pembelian(nota)\n",
        "2. **order_data** = Tanggal pembelian\n",
        "3. **customer_id** = Nomor ID pembeli\n",
        "4. **segment** = Segmen produk \n",
        "5. **category** = Kategori produk\n",
        "6. **sub_category** = Sub kategori produk\n",
        "7. **sales** = Total harga pembelian\n",
        "8. **quantity** = Jumlah produk dibeli\n",
        "9. **profit** = Keuntungan"
      ]
    },
    {
      "cell_type": "markdown",
      "metadata": {
        "id": "YoI4VjAIGxcV"
      },
      "source": [
        "#Menentukan Segmen yang menghasilkan profit tertinggi"
      ]
    },
    {
      "cell_type": "code",
      "metadata": {
        "colab": {
          "base_uri": "https://localhost:8080/"
        },
        "id": "K_CSX-2DHeNa",
        "outputId": "e7aee2c6-7b1b-4a19-e84f-974eac59c2fd"
      },
      "source": [
        "df.segment.value_counts()"
      ],
      "execution_count": 261,
      "outputs": [
        {
          "output_type": "execute_result",
          "data": {
            "text/plain": [
              "Consumer       5188\n",
              "Corporate      3019\n",
              "Home Office    1781\n",
              "Name: segment, dtype: int64"
            ]
          },
          "metadata": {
            "tags": []
          },
          "execution_count": 261
        }
      ]
    },
    {
      "cell_type": "code",
      "metadata": {
        "id": "4sFfnBLhHzjh"
      },
      "source": [
        "df_Consumer=df[df['segment']=='Consumer']\n",
        "df_Corporate=df[df['segment']=='Corporate']\n",
        "df_Home_Office=df[df['segment']=='Home Office']"
      ],
      "execution_count": 262,
      "outputs": []
    },
    {
      "cell_type": "code",
      "metadata": {
        "colab": {
          "base_uri": "https://localhost:8080/"
        },
        "id": "ivyr3oBdH2l_",
        "outputId": "523cbaf8-ff4b-472a-bed6-b9cc823e767e"
      },
      "source": [
        "df_Consumer.profit.sum()\n"
      ],
      "execution_count": 263,
      "outputs": [
        {
          "output_type": "execute_result",
          "data": {
            "text/plain": [
              "128959.22080000001"
            ]
          },
          "metadata": {
            "tags": []
          },
          "execution_count": 263
        }
      ]
    },
    {
      "cell_type": "code",
      "metadata": {
        "colab": {
          "base_uri": "https://localhost:8080/"
        },
        "id": "_hAMdpNAIBiA",
        "outputId": "d62ac3a5-baa2-43d2-9a96-9580a7388c11"
      },
      "source": [
        "df_Corporate.profit.sum()"
      ],
      "execution_count": 264,
      "outputs": [
        {
          "output_type": "execute_result",
          "data": {
            "text/plain": [
              "83579.158"
            ]
          },
          "metadata": {
            "tags": []
          },
          "execution_count": 264
        }
      ]
    },
    {
      "cell_type": "code",
      "metadata": {
        "colab": {
          "base_uri": "https://localhost:8080/"
        },
        "id": "TeHUNriOIAdp",
        "outputId": "2bc94600-dd43-4f00-f296-d04bea0f8dc0"
      },
      "source": [
        "df_Home_Office.profit.sum()"
      ],
      "execution_count": 265,
      "outputs": [
        {
          "output_type": "execute_result",
          "data": {
            "text/plain": [
              "58189.7681"
            ]
          },
          "metadata": {
            "tags": []
          },
          "execution_count": 265
        }
      ]
    },
    {
      "cell_type": "markdown",
      "metadata": {
        "id": "HythmuMUJXVH"
      },
      "source": [
        "Jadi, segmen dengan keuntungan total tertinggi adalah Consumer "
      ]
    },
    {
      "cell_type": "markdown",
      "metadata": {
        "id": "4V5JHfMOJpp9"
      },
      "source": [
        "#Menentukan Kategori dengan Sales terbanyak"
      ]
    },
    {
      "cell_type": "code",
      "metadata": {
        "colab": {
          "base_uri": "https://localhost:8080/"
        },
        "id": "zmIJSTGxJxB8",
        "outputId": "2a99fc05-f139-4224-b2cf-beee6fe422c3"
      },
      "source": [
        "df.category.value_counts()"
      ],
      "execution_count": 266,
      "outputs": [
        {
          "output_type": "execute_result",
          "data": {
            "text/plain": [
              "Office Supplies    6026\n",
              "Furniture          2121\n",
              "Technology         1841\n",
              "Name: category, dtype: int64"
            ]
          },
          "metadata": {
            "tags": []
          },
          "execution_count": 266
        }
      ]
    },
    {
      "cell_type": "code",
      "metadata": {
        "id": "v_KMqSM3J7ha"
      },
      "source": [
        "df_OfficeSupplies =df[df['category']=='Office Supplies']\n",
        "df_Furniture=df[df['category']=='Furniture']\n",
        "df_Technology=df[df['category']=='Technology']"
      ],
      "execution_count": 267,
      "outputs": []
    },
    {
      "cell_type": "code",
      "metadata": {
        "colab": {
          "base_uri": "https://localhost:8080/"
        },
        "id": "HEKm6AcvKgnz",
        "outputId": "dcfe7733-576d-4d33-87f7-46e4999aac7a"
      },
      "source": [
        "df_OfficeSupplies.sales.sum()"
      ],
      "execution_count": 268,
      "outputs": [
        {
          "output_type": "execute_result",
          "data": {
            "text/plain": [
              "719047.032"
            ]
          },
          "metadata": {
            "tags": []
          },
          "execution_count": 268
        }
      ]
    },
    {
      "cell_type": "code",
      "metadata": {
        "colab": {
          "base_uri": "https://localhost:8080/"
        },
        "id": "FNWGrSYNLTdo",
        "outputId": "e6032780-82e5-4583-c9a2-9cd72cf40f2d"
      },
      "source": [
        "df_Furniture.sales.sum()"
      ],
      "execution_count": 269,
      "outputs": [
        {
          "output_type": "execute_result",
          "data": {
            "text/plain": [
              "741999.7953"
            ]
          },
          "metadata": {
            "tags": []
          },
          "execution_count": 269
        }
      ]
    },
    {
      "cell_type": "code",
      "metadata": {
        "colab": {
          "base_uri": "https://localhost:8080/"
        },
        "id": "gb6tRAl9LYG1",
        "outputId": "ddd90983-0677-4516-e860-b8cf27c08278"
      },
      "source": [
        "df_Technology.sales.sum()"
      ],
      "execution_count": 270,
      "outputs": [
        {
          "output_type": "execute_result",
          "data": {
            "text/plain": [
              "755815.72"
            ]
          },
          "metadata": {
            "tags": []
          },
          "execution_count": 270
        }
      ]
    },
    {
      "cell_type": "markdown",
      "metadata": {
        "id": "eYApkwE4LdvI"
      },
      "source": [
        "Jadi, kategori dengan sales terbanyak adalah Technology"
      ]
    },
    {
      "cell_type": "markdown",
      "metadata": {
        "id": "6PPCUz-2Lxvj"
      },
      "source": [
        "#Menentukan Sub-Category dengan quantity paling sedikit"
      ]
    },
    {
      "cell_type": "code",
      "metadata": {
        "colab": {
          "base_uri": "https://localhost:8080/"
        },
        "id": "BsK5GLT1L6Kv",
        "outputId": "50ef8b66-a87f-4391-ae8f-7131ff92676b"
      },
      "source": [
        "df.sub_category.value_counts()"
      ],
      "execution_count": 271,
      "outputs": [
        {
          "output_type": "execute_result",
          "data": {
            "text/plain": [
              "Binders        1523\n",
              "Paper          1370\n",
              "Furnishings     957\n",
              "Phones          889\n",
              "Storage         846\n",
              "Art             796\n",
              "Accessories     775\n",
              "Chairs          617\n",
              "Appliances      466\n",
              "Labels          364\n",
              "Tables          319\n",
              "Envelopes       254\n",
              "Bookcases       228\n",
              "Fasteners       217\n",
              "Supplies        190\n",
              "Machines        113\n",
              "Copiers          64\n",
              "Name: sub_category, dtype: int64"
            ]
          },
          "metadata": {
            "tags": []
          },
          "execution_count": 271
        }
      ]
    },
    {
      "cell_type": "code",
      "metadata": {
        "id": "M3tkKUy4MILQ"
      },
      "source": [
        "df_Binders=df[df['sub_category']=='Binders']\n",
        "df_Paper=df[df['sub_category']=='Paper']\n",
        "df_Furnishings=df[df['sub_category']=='Furnishings']\n",
        "df_Phones=df[df['sub_category']=='Phones']\n",
        "df_Storage=df[df['sub_category']=='Storage']\n",
        "df_Art=df[df['sub_category']=='Art']\n",
        "df_Accessories=df[df['sub_category']=='Accessories']\n",
        "df_Chairs=df[df['sub_category']=='Chairs']\n",
        "df_Appliances=df[df['sub_category']=='Appliances']\n",
        "df_Labels=df[df['sub_category']=='Labels']\n",
        "df_Tables=df[df['sub_category']=='Tables']\n",
        "df_Envelopes=df[df['sub_category']=='Envelopes']\n",
        "df_Bookcases =df[df['sub_category']=='Bookcases']\n",
        "df_Fasteners=df[df['sub_category']=='Fasteners']\n",
        "df_Supplies=df[df['sub_category']=='Supplies']\n",
        "df_Machines=df[df['sub_category']=='Machines']\n",
        "df_Copiers=df[df['sub_category']=='Copiers']"
      ],
      "execution_count": 272,
      "outputs": []
    },
    {
      "cell_type": "code",
      "metadata": {
        "colab": {
          "base_uri": "https://localhost:8080/"
        },
        "id": "wvZO_hVaVRqQ",
        "outputId": "30be9b46-2086-4699-8408-72ae6efe83ad"
      },
      "source": [
        "df_Binders.quantity.sum()"
      ],
      "execution_count": 273,
      "outputs": [
        {
          "output_type": "execute_result",
          "data": {
            "text/plain": [
              "5974"
            ]
          },
          "metadata": {
            "tags": []
          },
          "execution_count": 273
        }
      ]
    },
    {
      "cell_type": "code",
      "metadata": {
        "colab": {
          "base_uri": "https://localhost:8080/"
        },
        "id": "5Em_qbD4WmHq",
        "outputId": "61654fee-29c6-4631-e6c6-de567bda8b16"
      },
      "source": [
        "df_Paper.quantity.sum()"
      ],
      "execution_count": 274,
      "outputs": [
        {
          "output_type": "execute_result",
          "data": {
            "text/plain": [
              "5178"
            ]
          },
          "metadata": {
            "tags": []
          },
          "execution_count": 274
        }
      ]
    },
    {
      "cell_type": "code",
      "metadata": {
        "colab": {
          "base_uri": "https://localhost:8080/"
        },
        "id": "X8u-I4aQWuWQ",
        "outputId": "dd91328a-05ba-4731-c76c-148a3f0a7c61"
      },
      "source": [
        "df_Furnishings.quantity.sum()"
      ],
      "execution_count": 275,
      "outputs": [
        {
          "output_type": "execute_result",
          "data": {
            "text/plain": [
              "3563"
            ]
          },
          "metadata": {
            "tags": []
          },
          "execution_count": 275
        }
      ]
    },
    {
      "cell_type": "code",
      "metadata": {
        "colab": {
          "base_uri": "https://localhost:8080/"
        },
        "id": "pVwWqpOTW2az",
        "outputId": "a180455e-95c7-44e8-bf72-77adbccfced3"
      },
      "source": [
        "df_Phones.quantity.sum()"
      ],
      "execution_count": 276,
      "outputs": [
        {
          "output_type": "execute_result",
          "data": {
            "text/plain": [
              "3289"
            ]
          },
          "metadata": {
            "tags": []
          },
          "execution_count": 276
        }
      ]
    },
    {
      "cell_type": "code",
      "metadata": {
        "colab": {
          "base_uri": "https://localhost:8080/"
        },
        "id": "AU0iLsm6W-97",
        "outputId": "971d0696-bea1-4d3e-b384-3da6584cd995"
      },
      "source": [
        "df_Storage.quantity.sum()"
      ],
      "execution_count": 277,
      "outputs": [
        {
          "output_type": "execute_result",
          "data": {
            "text/plain": [
              "3158"
            ]
          },
          "metadata": {
            "tags": []
          },
          "execution_count": 277
        }
      ]
    },
    {
      "cell_type": "code",
      "metadata": {
        "colab": {
          "base_uri": "https://localhost:8080/"
        },
        "id": "eewyj7ITXFbE",
        "outputId": "801d8e77-5128-41f8-cbd9-eb68fae2a687"
      },
      "source": [
        "df_Art.quantity.sum()"
      ],
      "execution_count": 278,
      "outputs": [
        {
          "output_type": "execute_result",
          "data": {
            "text/plain": [
              "3000"
            ]
          },
          "metadata": {
            "tags": []
          },
          "execution_count": 278
        }
      ]
    },
    {
      "cell_type": "code",
      "metadata": {
        "colab": {
          "base_uri": "https://localhost:8080/"
        },
        "id": "CBuk6E8dXPuT",
        "outputId": "32a0b8e5-40d0-430d-c70b-b77237d6e560"
      },
      "source": [
        "df_Accessories.quantity.sum()"
      ],
      "execution_count": 279,
      "outputs": [
        {
          "output_type": "execute_result",
          "data": {
            "text/plain": [
              "2976"
            ]
          },
          "metadata": {
            "tags": []
          },
          "execution_count": 279
        }
      ]
    },
    {
      "cell_type": "code",
      "metadata": {
        "colab": {
          "base_uri": "https://localhost:8080/"
        },
        "id": "BWeOZ809XYWy",
        "outputId": "cde4f16f-dca1-4667-e104-39845121e809"
      },
      "source": [
        "df_Chairs.quantity.sum()"
      ],
      "execution_count": 280,
      "outputs": [
        {
          "output_type": "execute_result",
          "data": {
            "text/plain": [
              "2356"
            ]
          },
          "metadata": {
            "tags": []
          },
          "execution_count": 280
        }
      ]
    },
    {
      "cell_type": "code",
      "metadata": {
        "colab": {
          "base_uri": "https://localhost:8080/"
        },
        "id": "slSqqhA0XjhJ",
        "outputId": "a3f0b8c2-df1c-4ff4-c04b-11f439bf9d18"
      },
      "source": [
        "df_Appliances.quantity.sum()"
      ],
      "execution_count": 281,
      "outputs": [
        {
          "output_type": "execute_result",
          "data": {
            "text/plain": [
              "1729"
            ]
          },
          "metadata": {
            "tags": []
          },
          "execution_count": 281
        }
      ]
    },
    {
      "cell_type": "code",
      "metadata": {
        "colab": {
          "base_uri": "https://localhost:8080/"
        },
        "id": "vpKuA2URXrHT",
        "outputId": "affbf7b0-fba3-496f-89d5-2fa23190de09"
      },
      "source": [
        "df_Labels.quantity.sum()\n"
      ],
      "execution_count": 282,
      "outputs": [
        {
          "output_type": "execute_result",
          "data": {
            "text/plain": [
              "1400"
            ]
          },
          "metadata": {
            "tags": []
          },
          "execution_count": 282
        }
      ]
    },
    {
      "cell_type": "code",
      "metadata": {
        "colab": {
          "base_uri": "https://localhost:8080/"
        },
        "id": "HlWAzoQGX6bl",
        "outputId": "f6144e32-784d-4646-ebe5-bbe0da710e28"
      },
      "source": [
        "df_Tables.quantity.sum()"
      ],
      "execution_count": 283,
      "outputs": [
        {
          "output_type": "execute_result",
          "data": {
            "text/plain": [
              "1241"
            ]
          },
          "metadata": {
            "tags": []
          },
          "execution_count": 283
        }
      ]
    },
    {
      "cell_type": "code",
      "metadata": {
        "colab": {
          "base_uri": "https://localhost:8080/"
        },
        "id": "mLkJvpcDYB4C",
        "outputId": "26de4c64-4a0f-49ae-d6db-fbedc08cac63"
      },
      "source": [
        "df_Envelopes.quantity.sum()"
      ],
      "execution_count": 284,
      "outputs": [
        {
          "output_type": "execute_result",
          "data": {
            "text/plain": [
              "906"
            ]
          },
          "metadata": {
            "tags": []
          },
          "execution_count": 284
        }
      ]
    },
    {
      "cell_type": "code",
      "metadata": {
        "colab": {
          "base_uri": "https://localhost:8080/"
        },
        "id": "a7fOcXveYIcE",
        "outputId": "6b92ef1a-b95f-427d-ac2b-12c3f2f260ec"
      },
      "source": [
        "df_Bookcases.quantity.sum()"
      ],
      "execution_count": 285,
      "outputs": [
        {
          "output_type": "execute_result",
          "data": {
            "text/plain": [
              "868"
            ]
          },
          "metadata": {
            "tags": []
          },
          "execution_count": 285
        }
      ]
    },
    {
      "cell_type": "code",
      "metadata": {
        "colab": {
          "base_uri": "https://localhost:8080/"
        },
        "id": "JjmdyX9UYOaj",
        "outputId": "e67381b1-79bf-4c6f-aaf5-0e9fb0e055e4"
      },
      "source": [
        "df_Fasteners.quantity.sum()"
      ],
      "execution_count": 286,
      "outputs": [
        {
          "output_type": "execute_result",
          "data": {
            "text/plain": [
              "914"
            ]
          },
          "metadata": {
            "tags": []
          },
          "execution_count": 286
        }
      ]
    },
    {
      "cell_type": "code",
      "metadata": {
        "colab": {
          "base_uri": "https://localhost:8080/"
        },
        "id": "CN7btchCYgPU",
        "outputId": "249622e3-f570-4985-95c5-a8632428044b"
      },
      "source": [
        "df_Supplies.quantity.sum()"
      ],
      "execution_count": 287,
      "outputs": [
        {
          "output_type": "execute_result",
          "data": {
            "text/plain": [
              "647"
            ]
          },
          "metadata": {
            "tags": []
          },
          "execution_count": 287
        }
      ]
    },
    {
      "cell_type": "code",
      "metadata": {
        "colab": {
          "base_uri": "https://localhost:8080/"
        },
        "id": "Dza9iVpPYVYs",
        "outputId": "620de967-4895-4327-e734-c71aa13fd7f3"
      },
      "source": [
        "df_Machines.quantity.sum()"
      ],
      "execution_count": 288,
      "outputs": [
        {
          "output_type": "execute_result",
          "data": {
            "text/plain": [
              "429"
            ]
          },
          "metadata": {
            "tags": []
          },
          "execution_count": 288
        }
      ]
    },
    {
      "cell_type": "code",
      "metadata": {
        "colab": {
          "base_uri": "https://localhost:8080/"
        },
        "id": "TLffGFYTYtJA",
        "outputId": "ed7fddcd-906e-4a3d-da7b-5e9ab712553f"
      },
      "source": [
        "df_Machines.quantity.sum()"
      ],
      "execution_count": 289,
      "outputs": [
        {
          "output_type": "execute_result",
          "data": {
            "text/plain": [
              "429"
            ]
          },
          "metadata": {
            "tags": []
          },
          "execution_count": 289
        }
      ]
    },
    {
      "cell_type": "code",
      "metadata": {
        "colab": {
          "base_uri": "https://localhost:8080/"
        },
        "id": "2LRZipSxYyjf",
        "outputId": "17653cd2-b289-4d58-ddc3-429114067e99"
      },
      "source": [
        "df_Copiers.quantity.sum()"
      ],
      "execution_count": 290,
      "outputs": [
        {
          "output_type": "execute_result",
          "data": {
            "text/plain": [
              "218"
            ]
          },
          "metadata": {
            "tags": []
          },
          "execution_count": 290
        }
      ]
    },
    {
      "cell_type": "markdown",
      "metadata": {
        "id": "5v0VqKDFY_IA"
      },
      "source": [
        "Jadi Sub-Category dengan quantity paling sedikit adalah Copiers"
      ]
    },
    {
      "cell_type": "markdown",
      "metadata": {
        "id": "hcaiZzwfaNdO"
      },
      "source": [
        "#Menentukan Bulan dengan Profit Tertinggi"
      ]
    },
    {
      "cell_type": "code",
      "metadata": {
        "colab": {
          "base_uri": "https://localhost:8080/",
          "height": 35
        },
        "id": "eCpPiSLhkCnN",
        "outputId": "29ab4bda-07c6-439a-e045-9e6d2be791e2"
      },
      "source": [
        "df['order_date'].min()"
      ],
      "execution_count": 291,
      "outputs": [
        {
          "output_type": "execute_result",
          "data": {
            "application/vnd.google.colaboratory.intrinsic+json": {
              "type": "string"
            },
            "text/plain": [
              "'1/1/2017'"
            ]
          },
          "metadata": {
            "tags": []
          },
          "execution_count": 291
        }
      ]
    },
    {
      "cell_type": "code",
      "metadata": {
        "colab": {
          "base_uri": "https://localhost:8080/",
          "height": 35
        },
        "id": "BFWvUgO7XedI",
        "outputId": "c07b4668-ac38-49ee-f270-a85f65a5d23d"
      },
      "source": [
        "df['order_date'].max()"
      ],
      "execution_count": 292,
      "outputs": [
        {
          "output_type": "execute_result",
          "data": {
            "application/vnd.google.colaboratory.intrinsic+json": {
              "type": "string"
            },
            "text/plain": [
              "'9/9/2017'"
            ]
          },
          "metadata": {
            "tags": []
          },
          "execution_count": 292
        }
      ]
    },
    {
      "cell_type": "markdown",
      "metadata": {
        "id": "WVmcVRiGYBHL"
      },
      "source": [
        "Ternyata format data tanggal ada yang tidak terbaca, maka perlu diperbaiki"
      ]
    },
    {
      "cell_type": "code",
      "metadata": {
        "id": "rX3k_BoaYMPZ"
      },
      "source": [
        "df['order_date']=pd.to_datetime(df['order_date'])"
      ],
      "execution_count": 293,
      "outputs": []
    },
    {
      "cell_type": "code",
      "metadata": {
        "colab": {
          "base_uri": "https://localhost:8080/"
        },
        "id": "HTc6XqjcaCv8",
        "outputId": "c0640a0a-446b-43d1-9259-0b2cb35b2013"
      },
      "source": [
        "#Menambahkan kolom bulan\n",
        "df['month']=pd.DatetimeIndex(df['order_date']).month\n",
        "print(df)"
      ],
      "execution_count": 294,
      "outputs": [
        {
          "output_type": "stream",
          "text": [
            "            order_id order_date customer_id  ... quantity    profit month\n",
            "0     CA-2016-152156 2016-11-08    CG-12520  ...        2   41.9136    11\n",
            "1     CA-2016-152156 2016-11-08    CG-12520  ...        3  219.5820    11\n",
            "2     CA-2016-138688 2016-06-12    DV-13045  ...        2    6.8714     6\n",
            "3     US-2015-108966 2015-10-11    SO-20335  ...        5 -383.0310    10\n",
            "4     US-2015-108966 2015-10-11    SO-20335  ...        2    2.5164    10\n",
            "...              ...        ...         ...  ...      ...       ...   ...\n",
            "9983  CA-2014-110422 2014-01-21    TB-21400  ...        3    4.1028     1\n",
            "9984  CA-2017-121258 2017-02-26    DB-13060  ...        2   15.6332     2\n",
            "9985  CA-2017-121258 2017-02-26    DB-13060  ...        2   19.3932     2\n",
            "9986  CA-2017-121258 2017-02-26    DB-13060  ...        4   13.3200     2\n",
            "9987  CA-2017-119914 2017-05-04    CC-12220  ...        2   72.9480     5\n",
            "\n",
            "[9988 rows x 10 columns]\n"
          ],
          "name": "stdout"
        }
      ]
    },
    {
      "cell_type": "code",
      "metadata": {
        "colab": {
          "base_uri": "https://localhost:8080/"
        },
        "id": "C5pIouroZeo-",
        "outputId": "01be4d68-8338-4a89-d13b-16513c76df1d"
      },
      "source": [
        "df['order_date']=df['order_date'].dt.strftime('%m/%d/%Y')\n",
        "print(df)"
      ],
      "execution_count": 295,
      "outputs": [
        {
          "output_type": "stream",
          "text": [
            "            order_id  order_date customer_id  ... quantity    profit month\n",
            "0     CA-2016-152156  11/08/2016    CG-12520  ...        2   41.9136    11\n",
            "1     CA-2016-152156  11/08/2016    CG-12520  ...        3  219.5820    11\n",
            "2     CA-2016-138688  06/12/2016    DV-13045  ...        2    6.8714     6\n",
            "3     US-2015-108966  10/11/2015    SO-20335  ...        5 -383.0310    10\n",
            "4     US-2015-108966  10/11/2015    SO-20335  ...        2    2.5164    10\n",
            "...              ...         ...         ...  ...      ...       ...   ...\n",
            "9983  CA-2014-110422  01/21/2014    TB-21400  ...        3    4.1028     1\n",
            "9984  CA-2017-121258  02/26/2017    DB-13060  ...        2   15.6332     2\n",
            "9985  CA-2017-121258  02/26/2017    DB-13060  ...        2   19.3932     2\n",
            "9986  CA-2017-121258  02/26/2017    DB-13060  ...        4   13.3200     2\n",
            "9987  CA-2017-119914  05/04/2017    CC-12220  ...        2   72.9480     5\n",
            "\n",
            "[9988 rows x 10 columns]\n"
          ],
          "name": "stdout"
        }
      ]
    },
    {
      "cell_type": "code",
      "metadata": {
        "colab": {
          "base_uri": "https://localhost:8080/"
        },
        "id": "qbDVnLu1bIw2",
        "outputId": "b55b8b5e-1db3-4b0b-c757-36b01f578992"
      },
      "source": [
        "df.month.value_counts()"
      ],
      "execution_count": 296,
      "outputs": [
        {
          "output_type": "execute_result",
          "data": {
            "text/plain": [
              "11    1469\n",
              "12    1408\n",
              "9     1383\n",
              "10     817\n",
              "5      735\n",
              "6      717\n",
              "7      710\n",
              "8      706\n",
              "3      694\n",
              "4      668\n",
              "1      381\n",
              "2      300\n",
              "Name: month, dtype: int64"
            ]
          },
          "metadata": {
            "tags": []
          },
          "execution_count": 296
        }
      ]
    },
    {
      "cell_type": "code",
      "metadata": {
        "colab": {
          "base_uri": "https://localhost:8080/"
        },
        "id": "06xlx8Rabsfv",
        "outputId": "670b799d-5d1a-46fa-d17b-b910bd4081e3"
      },
      "source": [
        "order_date=df.groupby('month').sum()\n",
        "print(order_date)"
      ],
      "execution_count": 297,
      "outputs": [
        {
          "output_type": "stream",
          "text": [
            "             sales  quantity      profit\n",
            "month                                   \n",
            "1       94924.8356      1475   9134.4461\n",
            "2       59751.2514      1067  10294.6107\n",
            "3      168367.0488      2554  23685.7848\n",
            "4      137762.1286      2447  11587.4363\n",
            "5      155028.8117      2791  22411.3078\n",
            "6      152718.6793      2680  21285.7954\n",
            "7      147238.0970      2705  13832.6648\n",
            "8      159044.0630      2784  21776.9384\n",
            "9      307649.9457      5062  36857.4753\n",
            "10     171623.0667      3095  19464.0765\n",
            "11     337461.1160      5767  37028.4189\n",
            "12     325293.5035      5419  43369.1919\n"
          ],
          "name": "stdout"
        }
      ]
    },
    {
      "cell_type": "markdown",
      "metadata": {
        "id": "21Z_sbYYcH1F"
      },
      "source": [
        "Jadi, Bulan dengan profit tertinggi adalah bulan Desember dengan profit sebesar 43369.1919"
      ]
    }
  ]
}